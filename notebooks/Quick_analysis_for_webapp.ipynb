{
 "cells": [
  {
   "cell_type": "code",
   "execution_count": 1,
   "metadata": {},
   "outputs": [],
   "source": [
    "import numpy as np\n",
    "import matplotlib.pyplot as plt\n",
    "import pandas as pd\n",
    "import seaborn as sns\n",
    "import os\n",
    "import pickle"
   ]
  },
  {
   "cell_type": "code",
   "execution_count": 3,
   "metadata": {},
   "outputs": [],
   "source": [
    "\n",
    " \n",
    "# some time later...\n",
    " \n",
    "# load the model from disk\n",
    "loaded_model = pickle.load(open(filename, 'rb'))"
   ]
  },
  {
   "cell_type": "code",
   "execution_count": 5,
   "metadata": {},
   "outputs": [],
   "source": [
    "loaded_model?"
   ]
  },
  {
   "cell_type": "code",
   "execution_count": 6,
   "metadata": {},
   "outputs": [],
   "source": [
    "xi, yi, c = np.loadtxt(\"MOV_0002_frame10_keypoints.txt\").T\n",
    "x_test=(np.hstack((xi,yi))/max(np.hstack((xi,yi))))\n",
    "x_new_test = np.zeros(x_test.shape[0]+1)\n",
    "x_new_test[ :-1] = x_test\n",
    "x_new_test[-1]=(x_test[14]-x_test[11])/(x_test[5]-x_test[2])\n",
    "x_new_test[np.isinf(x_new_test)]=0.0"
   ]
  },
  {
   "cell_type": "code",
   "execution_count": 9,
   "metadata": {},
   "outputs": [
    {
     "data": {
      "text/plain": [
       "array([[0.30828094, 0.32648348, 0.25022964, 0.18627934, 0.14375611,\n",
       "        0.40263866, 0.47588799, 0.50335726, 0.31739924, 0.26258644,\n",
       "        0.27168465, 0.25336424, 0.37223124, 0.37216925, 0.37826994,\n",
       "        0.29002864, 0.32961197, 0.26862077, 0.35999319, 0.39047133,\n",
       "        0.40887294, 0.3661419 , 0.20771078, 0.19846151, 0.26551935,\n",
       "        0.16496228, 0.25347077, 0.25333106, 0.37837734, 0.27161044,\n",
       "        0.25634779, 0.37232816, 0.25341838, 0.51844702, 0.51542243,\n",
       "        0.7256959 , 0.93604184, 0.51846186, 0.72878685, 0.93288977,\n",
       "        0.14361466, 0.14362427, 0.1466637 , 0.14371769, 1.        ,\n",
       "        0.98793308, 0.94217135, 0.99401893, 0.98478975, 0.954247  ,\n",
       "        0.81954271]])"
      ]
     },
     "execution_count": 9,
     "metadata": {},
     "output_type": "execute_result"
    }
   ],
   "source": [
    "x_new_test.reshape(1,-1)"
   ]
  },
  {
   "cell_type": "code",
   "execution_count": 11,
   "metadata": {},
   "outputs": [],
   "source": [
    "result = loaded_model.predict(x_new_test.reshape(1,-1))"
   ]
  },
  {
   "cell_type": "code",
   "execution_count": 14,
   "metadata": {},
   "outputs": [
    {
     "name": "stdout",
     "output_type": "stream",
     "text": [
      "['normal']\n"
     ]
    }
   ],
   "source": [
    "print(result)"
   ]
  },
  {
   "cell_type": "code",
   "execution_count": 15,
   "metadata": {},
   "outputs": [
    {
     "data": {
      "text/plain": [
       "'normal'"
      ]
     },
     "execution_count": 15,
     "metadata": {},
     "output_type": "execute_result"
    }
   ],
   "source": [
    "result[0]"
   ]
  },
  {
   "cell_type": "code",
   "execution_count": 19,
   "metadata": {},
   "outputs": [],
   "source": [
    "import pyopenpose as op\n",
    "import cv2"
   ]
  },
  {
   "cell_type": "code",
   "execution_count": 20,
   "metadata": {},
   "outputs": [],
   "source": [
    "filename='/Users/gwattal/webapps/roy_tuts/uploads/MOV_0011_frame72.jpg'"
   ]
  },
  {
   "cell_type": "code",
   "execution_count": 22,
   "metadata": {},
   "outputs": [
    {
     "ename": "NameError",
     "evalue": "name 'keypoints' is not defined",
     "output_type": "error",
     "traceback": [
      "\u001b[0;31m---------------------------------------------------------------------------\u001b[0m",
      "\u001b[0;31mNameError\u001b[0m                                 Traceback (most recent call last)",
      "\u001b[0;32m<ipython-input-22-6bb76fde179a>\u001b[0m in \u001b[0;36m<module>\u001b[0;34m\u001b[0m\n\u001b[1;32m     10\u001b[0m \u001b[0mopWrapper\u001b[0m\u001b[0;34m.\u001b[0m\u001b[0memplaceAndPop\u001b[0m\u001b[0;34m(\u001b[0m\u001b[0;34m[\u001b[0m\u001b[0mdatum\u001b[0m\u001b[0;34m]\u001b[0m\u001b[0;34m)\u001b[0m\u001b[0;34m\u001b[0m\u001b[0;34m\u001b[0m\u001b[0m\n\u001b[1;32m     11\u001b[0m \u001b[0mkeypints\u001b[0m\u001b[0;34m=\u001b[0m\u001b[0mdatum\u001b[0m\u001b[0;34m.\u001b[0m\u001b[0mposeKeypoints\u001b[0m\u001b[0;34m[\u001b[0m\u001b[0;36m0\u001b[0m\u001b[0;34m]\u001b[0m\u001b[0;34m\u001b[0m\u001b[0;34m\u001b[0m\u001b[0m\n\u001b[0;32m---> 12\u001b[0;31m \u001b[0mxi\u001b[0m\u001b[0;34m=\u001b[0m\u001b[0mkeypoints\u001b[0m\u001b[0;34m[\u001b[0m\u001b[0;34m:\u001b[0m\u001b[0;34m,\u001b[0m\u001b[0;36m0\u001b[0m\u001b[0;34m]\u001b[0m\u001b[0;34m\u001b[0m\u001b[0;34m\u001b[0m\u001b[0m\n\u001b[0m\u001b[1;32m     13\u001b[0m \u001b[0myi\u001b[0m\u001b[0;34m=\u001b[0m\u001b[0mkeypoints\u001b[0m\u001b[0;34m[\u001b[0m\u001b[0;34m:\u001b[0m\u001b[0;34m,\u001b[0m\u001b[0;36m1\u001b[0m\u001b[0;34m]\u001b[0m\u001b[0;34m\u001b[0m\u001b[0;34m\u001b[0m\u001b[0m\n",
      "\u001b[0;31mNameError\u001b[0m: name 'keypoints' is not defined"
     ]
    }
   ],
   "source": [
    "    params = dict()\n",
    "    params[\"model_folder\"] = \"/Users/gwattal/squatsmart/openpose/models\"\n",
    "    # Starting OpenPose\n",
    "    opWrapper = op.WrapperPython()\n",
    "    opWrapper.configure(params)\n",
    "    opWrapper.start()\n",
    "    datum = op.Datum()\n",
    "    imageToProcess = cv2.imread(filename)\n",
    "    datum.cvInputData = imageToProcess\n",
    "    opWrapper.emplaceAndPop([datum])\n",
    "    keypints=datum.poseKeypoints[0]\n",
    "    xi=keypoints[:,0]\n",
    "    yi=keypoints[:,1]"
   ]
  },
  {
   "cell_type": "code",
   "execution_count": 23,
   "metadata": {},
   "outputs": [],
   "source": [
    "xi=keypints[:,0]\n",
    "yi=keypints[:,1]"
   ]
  },
  {
   "cell_type": "code",
   "execution_count": 25,
   "metadata": {},
   "outputs": [
    {
     "data": {
      "text/plain": [
       "(25,)"
      ]
     },
     "execution_count": 25,
     "metadata": {},
     "output_type": "execute_result"
    }
   ],
   "source": [
    "xi.shape"
   ]
  },
  {
   "cell_type": "code",
   "execution_count": null,
   "metadata": {},
   "outputs": [],
   "source": []
  }
 ],
 "metadata": {
  "kernelspec": {
   "display_name": "Python 3",
   "language": "python",
   "name": "python3"
  },
  "language_info": {
   "codemirror_mode": {
    "name": "ipython",
    "version": 3
   },
   "file_extension": ".py",
   "mimetype": "text/x-python",
   "name": "python",
   "nbconvert_exporter": "python",
   "pygments_lexer": "ipython3",
   "version": "3.7.7"
  }
 },
 "nbformat": 4,
 "nbformat_minor": 4
}
