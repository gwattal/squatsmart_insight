{
 "cells": [
  {
   "cell_type": "code",
   "execution_count": 1,
   "metadata": {},
   "outputs": [],
   "source": [
    "import sys\n",
    "import cv2\n",
    "import os\n",
    "from sys import platform\n",
    "import argparse\n",
    "import time\n",
    "import numpy as np\n",
    "import matplotlib.pyplot as plt\n",
    "import pyopenpose as op"
   ]
  },
  {
   "cell_type": "code",
   "execution_count": 2,
   "metadata": {},
   "outputs": [],
   "source": [
    "# Custom Params (refer to include/openpose/flags.hpp for more parameters)\n",
    "params = dict()\n",
    "params[\"model_folder\"] = \"/Users/gwattal/squatsmart/openpose/models\""
   ]
  },
  {
   "cell_type": "code",
   "execution_count": 3,
   "metadata": {},
   "outputs": [],
   "source": [
    "# Starting OpenPose\n",
    "opWrapper = op.WrapperPython()\n",
    "opWrapper.configure(params)\n",
    "opWrapper.start()\n",
    "\n",
    "#input_image_path=\"/Users/gwattal/squatsmart/dataset/front_view/\"\n",
    "#output_image_path=\"/Users/gwattal/squatsmart/output_images/\"\n",
    "#output_keypoints_path= \"/Users/gwattal/squatsmart/output_keypoints/\"\n",
    "\n",
    "input_image_path=\"/Users/gwattal/squatsmart/frames_from_movies/MOV_0005/\" #path to image\n",
    "output_image_path=\"/Users/gwattal/squatsmart/openpose/output_images2/\"#path to rendered output folder\n",
    "output_keypoints_path=\"/Users/gwattal/squatsmart/openpose/output_keypoints2/\" #path to keypoints folder\n",
    "\n",
    "# Read frames on directory\n",
    "#imagePaths = op.get_images_on_directory(input_image_path)\n",
    "    #\"/Users/gwattal/squatsmart/openpose/examples/media\")\n",
    "start = time.time()\n",
    "datum = op.Datum()\n",
    "imageToProcess = cv2.imread(imagePath_path)\n",
    "datum.cvInputData = imageToProcess\n",
    "opWrapper.emplaceAndPop([datum])\n",
    "##Save the rendered output file\n",
    "cv2.imwrite(output_image_path+\"output_image_annotated.jpg\",datum.cvOutputData)\n",
    "#Save the Keypoints\n",
    "np.savetxt(output_keypoints_path+\"output_image_keypoints.txt\",datum.poseKeypoints[0]) \n",
    "#print(\"Body keypoints: \\n\" + str(datum.poseKeypoints))\n",
    "print(\"Done with \" + image_name)"
   ]
  },
  {
   "cell_type": "code",
   "execution_count": 4,
   "metadata": {
    "scrolled": true
   },
   "outputs": [
    {
     "name": "stdout",
     "output_type": "stream",
     "text": [
      "IMG_m04_1\n",
      "Done with IMG_m04_1\n",
      "IMG_m04_2\n"
     ]
    },
    {
     "ename": "KeyboardInterrupt",
     "evalue": "",
     "output_type": "error",
     "traceback": [
      "\u001b[0;31m---------------------------------------------------------------------------\u001b[0m",
      "\u001b[0;31mKeyboardInterrupt\u001b[0m                         Traceback (most recent call last)",
      "\u001b[0;32m<ipython-input-4-c9ab5be76a19>\u001b[0m in \u001b[0;36m<module>\u001b[0;34m\u001b[0m\n\u001b[1;32m      6\u001b[0m     \u001b[0mimageToProcess\u001b[0m \u001b[0;34m=\u001b[0m \u001b[0mcv2\u001b[0m\u001b[0;34m.\u001b[0m\u001b[0mimread\u001b[0m\u001b[0;34m(\u001b[0m\u001b[0mimagePath\u001b[0m\u001b[0;34m)\u001b[0m\u001b[0;34m\u001b[0m\u001b[0;34m\u001b[0m\u001b[0m\n\u001b[1;32m      7\u001b[0m     \u001b[0mdatum\u001b[0m\u001b[0;34m.\u001b[0m\u001b[0mcvInputData\u001b[0m \u001b[0;34m=\u001b[0m \u001b[0mimageToProcess\u001b[0m\u001b[0;34m\u001b[0m\u001b[0;34m\u001b[0m\u001b[0m\n\u001b[0;32m----> 8\u001b[0;31m     \u001b[0mopWrapper\u001b[0m\u001b[0;34m.\u001b[0m\u001b[0memplaceAndPop\u001b[0m\u001b[0;34m(\u001b[0m\u001b[0;34m[\u001b[0m\u001b[0mdatum\u001b[0m\u001b[0;34m]\u001b[0m\u001b[0;34m)\u001b[0m\u001b[0;34m\u001b[0m\u001b[0;34m\u001b[0m\u001b[0m\n\u001b[0m\u001b[1;32m      9\u001b[0m     \u001b[0;31m##Save the rendered output file\u001b[0m\u001b[0;34m\u001b[0m\u001b[0;34m\u001b[0m\u001b[0;34m\u001b[0m\u001b[0m\n\u001b[1;32m     10\u001b[0m     \u001b[0mcv2\u001b[0m\u001b[0;34m.\u001b[0m\u001b[0mimwrite\u001b[0m\u001b[0;34m(\u001b[0m\u001b[0moutput_image_path\u001b[0m\u001b[0;34m+\u001b[0m\u001b[0mimage_name\u001b[0m\u001b[0;34m+\u001b[0m\u001b[0;34m\"_annotated.jpg\"\u001b[0m\u001b[0;34m,\u001b[0m\u001b[0mdatum\u001b[0m\u001b[0;34m.\u001b[0m\u001b[0mcvOutputData\u001b[0m\u001b[0;34m)\u001b[0m\u001b[0;34m\u001b[0m\u001b[0;34m\u001b[0m\u001b[0m\n",
      "\u001b[0;31mKeyboardInterrupt\u001b[0m: "
     ]
    }
   ],
   "source": [
    "for imagePath in imagePaths:\n",
    "    image_name=imagePath.replace(input_image_path,\"\")\n",
    "    image_name=image_name.replace(\".jpg\",'')\n",
    "    print(image_name)\n",
    "    datum = op.Datum()\n",
    "    imageToProcess = cv2.imread(imagePath)\n",
    "    datum.cvInputData = imageToProcess\n",
    "    opWrapper.emplaceAndPop([datum])\n",
    "    ##Save the rendered output file\n",
    "    cv2.imwrite(output_image_path+image_name+\"_annotated.jpg\",datum.cvOutputData)\n",
    "    #Save the Keypoints\n",
    "    np.savetxt(output_keypoints_path+image_name+\"_keypoints.txt\",datum.poseKeypoints[0]) #.reshape(25,3))\n",
    "    #print(\"Body keypoints: \\n\" + str(datum.poseKeypoints))\n",
    "    print(\"Done with \" + image_name)\n",
    "    "
   ]
  },
  {
   "cell_type": "code",
   "execution_count": 5,
   "metadata": {},
   "outputs": [],
   "source": [
    "opWrapper.stop()"
   ]
  },
  {
   "cell_type": "code",
   "execution_count": 6,
   "metadata": {},
   "outputs": [
    {
     "name": "stdout",
     "output_type": "stream",
     "text": [
      "31.470681190490723\n"
     ]
    }
   ],
   "source": [
    "end = time.time()\n",
    "print(end - start)"
   ]
  },
  {
   "cell_type": "code",
   "execution_count": 13,
   "metadata": {},
   "outputs": [
    {
     "data": {
      "text/plain": [
       "3"
      ]
     },
     "execution_count": 13,
     "metadata": {},
     "output_type": "execute_result"
    }
   ],
   "source": [
    "datum.poseKeypoints"
   ]
  },
  {
   "cell_type": "code",
   "execution_count": 14,
   "metadata": {},
   "outputs": [],
   "source": [
    "input_image_path=\"/Users/gwattal/squatsmart/frames_from_movies/MOV_0004/IMG_m04_100.jpg\"\n",
    "datum = op.Datum()\n",
    "imageToProcess = cv2.imread(imagePath)\n",
    "datum.cvInputData = imageToProcess\n",
    "opWrapper.emplaceAndPop([datum])"
   ]
  },
  {
   "cell_type": "code",
   "execution_count": 19,
   "metadata": {},
   "outputs": [
    {
     "data": {
      "text/plain": [
       "array([[[5.3492340e+02, 3.5680902e+02, 9.3263125e-01],\n",
       "        [5.4002454e+02, 5.2942670e+02, 9.2668104e-01],\n",
       "        [4.1428464e+02, 5.3489661e+02, 8.7387586e-01],\n",
       "        [3.6184924e+02, 7.4937799e+02, 9.1817319e-01],\n",
       "        [2.9375409e+02, 5.7150244e+02, 9.1944349e-01],\n",
       "        [6.7090326e+02, 5.1919391e+02, 8.9139068e-01],\n",
       "        [7.1823492e+02, 7.3384943e+02, 9.0978515e-01],\n",
       "        [7.8604163e+02, 5.6111188e+02, 9.1443807e-01],\n",
       "        [5.3472632e+02, 9.1710437e+02, 7.7893651e-01],\n",
       "        [4.5110052e+02, 9.1707019e+02, 7.5047892e-01],\n",
       "        [4.3518185e+02, 1.2157115e+03, 8.5683960e-01],\n",
       "        [3.9872684e+02, 1.4879823e+03, 8.9875376e-01],\n",
       "        [6.1351465e+02, 9.1710461e+02, 7.6342463e-01],\n",
       "        [6.3942212e+02, 1.2155828e+03, 8.5590386e-01],\n",
       "        [6.7622437e+02, 1.4880844e+03, 8.6254770e-01],\n",
       "        [5.0865161e+02, 3.2528958e+02, 9.3129039e-01],\n",
       "        [5.6640692e+02, 3.2538275e+02, 9.5462185e-01],\n",
       "        [4.6680417e+02, 3.5153619e+02, 9.3908447e-01],\n",
       "        [6.0818549e+02, 3.5163016e+02, 9.6160078e-01],\n",
       "        [7.3375726e+02, 1.5824585e+03, 8.6215007e-01],\n",
       "        [7.4967535e+02, 1.5664587e+03, 8.5065758e-01],\n",
       "        [6.5536871e+02, 1.5141743e+03, 7.9290634e-01],\n",
       "        [3.4617172e+02, 1.5719714e+03, 8.4934562e-01],\n",
       "        [3.2530319e+02, 1.5560735e+03, 7.6744467e-01],\n",
       "        [4.1440997e+02, 1.5038114e+03, 8.4128982e-01]],\n",
       "\n",
       "       [[0.0000000e+00, 0.0000000e+00, 0.0000000e+00],\n",
       "        [0.0000000e+00, 0.0000000e+00, 0.0000000e+00],\n",
       "        [0.0000000e+00, 0.0000000e+00, 0.0000000e+00],\n",
       "        [0.0000000e+00, 0.0000000e+00, 0.0000000e+00],\n",
       "        [0.0000000e+00, 0.0000000e+00, 0.0000000e+00],\n",
       "        [1.0688596e+01, 9.8005859e+02, 9.1636904e-02],\n",
       "        [1.0884938e+01, 1.2104155e+03, 5.2714181e-01],\n",
       "        [1.0755672e+01, 1.0899448e+03, 2.7542847e-01],\n",
       "        [0.0000000e+00, 0.0000000e+00, 0.0000000e+00],\n",
       "        [0.0000000e+00, 0.0000000e+00, 0.0000000e+00],\n",
       "        [0.0000000e+00, 0.0000000e+00, 0.0000000e+00],\n",
       "        [0.0000000e+00, 0.0000000e+00, 0.0000000e+00],\n",
       "        [0.0000000e+00, 0.0000000e+00, 0.0000000e+00],\n",
       "        [0.0000000e+00, 0.0000000e+00, 0.0000000e+00],\n",
       "        [0.0000000e+00, 0.0000000e+00, 0.0000000e+00],\n",
       "        [0.0000000e+00, 0.0000000e+00, 0.0000000e+00],\n",
       "        [0.0000000e+00, 0.0000000e+00, 0.0000000e+00],\n",
       "        [0.0000000e+00, 0.0000000e+00, 0.0000000e+00],\n",
       "        [0.0000000e+00, 0.0000000e+00, 0.0000000e+00],\n",
       "        [0.0000000e+00, 0.0000000e+00, 0.0000000e+00],\n",
       "        [0.0000000e+00, 0.0000000e+00, 0.0000000e+00],\n",
       "        [0.0000000e+00, 0.0000000e+00, 0.0000000e+00],\n",
       "        [0.0000000e+00, 0.0000000e+00, 0.0000000e+00],\n",
       "        [0.0000000e+00, 0.0000000e+00, 0.0000000e+00],\n",
       "        [0.0000000e+00, 0.0000000e+00, 0.0000000e+00]]], dtype=float32)"
      ]
     },
     "execution_count": 19,
     "metadata": {},
     "output_type": "execute_result"
    }
   ],
   "source": [
    "datum.poseKeypoints[0]"
   ]
  },
  {
   "cell_type": "code",
   "execution_count": 22,
   "metadata": {},
   "outputs": [],
   "source": [
    "input_image_path2=\"/Users/gwattal/squatsmart/frames_from_movies/MOV_0004/IMG_m04_1.jpg\"\n",
    "datum2 = op.Datum()\n",
    "imageToProcess = cv2.imread(input_image_path2)\n",
    "datum2.cvInputData = imageToProcess\n",
    "opWrapper.emplaceAndPop([datum2])"
   ]
  },
  {
   "cell_type": "code",
   "execution_count": 26,
   "metadata": {},
   "outputs": [
    {
     "data": {
      "text/plain": [
       "array([[5.5054114e+02, 3.7242990e+02, 9.1113466e-01],\n",
       "       [5.5576581e+02, 5.3988013e+02, 9.4353318e-01],\n",
       "       [4.3009134e+02, 5.4513751e+02, 8.9438748e-01],\n",
       "       [3.7766898e+02, 7.5471844e+02, 8.8874435e-01],\n",
       "       [3.0436258e+02, 5.8711932e+02, 9.2455703e-01],\n",
       "       [6.8653119e+02, 5.2950110e+02, 8.9186466e-01],\n",
       "       [7.2867749e+02, 7.4420557e+02, 9.2883062e-01],\n",
       "       [8.0183221e+02, 5.6633813e+02, 9.1787595e-01],\n",
       "       [5.4529468e+02, 9.2235095e+02, 7.5919366e-01],\n",
       "       [4.6669391e+02, 9.2235754e+02, 7.5459933e-01],\n",
       "       [4.4032782e+02, 1.2312898e+03, 8.4329903e-01],\n",
       "       [4.1415137e+02, 1.4985566e+03, 8.6431324e-01],\n",
       "       [6.2911176e+02, 9.2233887e+02, 7.4970895e-01],\n",
       "       [6.4987964e+02, 1.2262207e+03, 8.4948838e-01],\n",
       "       [6.8685651e+02, 1.4984957e+03, 8.7983465e-01],\n",
       "       [5.1911023e+02, 3.4092603e+02, 9.6247101e-01],\n",
       "       [5.8193109e+02, 3.4103580e+02, 9.2791110e-01],\n",
       "       [4.7729449e+02, 3.6181488e+02, 9.4536346e-01],\n",
       "       [6.1868170e+02, 3.6704636e+02, 9.2052525e-01],\n",
       "       [7.4939435e+02, 1.5980770e+03, 8.2511902e-01],\n",
       "       [7.7029285e+02, 1.5771134e+03, 8.1732249e-01],\n",
       "       [6.7602588e+02, 1.5245813e+03, 7.8162402e-01],\n",
       "       [3.5653564e+02, 1.5875853e+03, 8.1835181e-01],\n",
       "       [3.4084363e+02, 1.5666849e+03, 7.8528762e-01],\n",
       "       [4.2994547e+02, 1.5195322e+03, 8.5788888e-01]], dtype=float32)"
      ]
     },
     "execution_count": 26,
     "metadata": {},
     "output_type": "execute_result"
    }
   ],
   "source": [
    "datum2.poseKeypoints[0]"
   ]
  },
  {
   "cell_type": "code",
   "execution_count": null,
   "metadata": {},
   "outputs": [],
   "source": []
  }
 ],
 "metadata": {
  "kernelspec": {
   "display_name": "Python 3",
   "language": "python",
   "name": "python3"
  },
  "language_info": {
   "codemirror_mode": {
    "name": "ipython",
    "version": 3
   },
   "file_extension": ".py",
   "mimetype": "text/x-python",
   "name": "python",
   "nbconvert_exporter": "python",
   "pygments_lexer": "ipython3",
   "version": "3.6.9"
  }
 },
 "nbformat": 4,
 "nbformat_minor": 4
}
