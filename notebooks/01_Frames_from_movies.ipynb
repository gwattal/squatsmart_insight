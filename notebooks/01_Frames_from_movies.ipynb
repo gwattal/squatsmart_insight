{
 "cells": [
  {
   "cell_type": "markdown",
   "metadata": {},
   "source": [
    "In this notebook we extract the frames from the squat movies. These frames will form our dataset."
   ]
  },
  {
   "cell_type": "code",
   "execution_count": 1,
   "metadata": {
    "collapsed": true
   },
   "outputs": [],
   "source": [
    "import cv2\n",
    "import matplotlib.pyplot as plt\n",
    "import matplotlib"
   ]
  },
  {
   "cell_type": "code",
   "execution_count": null,
   "metadata": {},
   "outputs": [],
   "source": [
    "def FrameCapture(pathvideo): \n",
    "\n",
    "    # Path to video file \n",
    "    vidObj = cv2.VideoCapture(pathvideo) \n",
    "\n",
    "    # Used as counter variable \n",
    "    count = 1\n",
    "\n",
    "    # checks whether frames were extracted \n",
    "    success = True\n",
    "\n",
    "    while success: \n",
    "        # vidObj object calls read \n",
    "        # function extract frames \n",
    "        print(count)\n",
    "        success, image = vidObj.read() \n",
    "        #print(image[0,0,:])\n",
    "        # Saves the frames with frame-count\n",
    "        \n",
    "        #plt.imshow(image)\n",
    "        if(image is not None):\n",
    "            matplotlib.image.imsave(\"/home/ubuntu/frames/MOV_0041_frame%d.png\" %count, image[:,:,::-1]) \n",
    "        count += 1\n",
    "\n",
    "\n",
    "# Calling the function\n",
    "pathvideo=\"/home/ubuntu/side_view_2/MOV_0041.m4v\"\n",
    "#pathframe=\"~/squatsmart/frames/\"\n",
    "FrameCapture(pathvideo) \n",
    "\n"
   ]
  },
  {
   "cell_type": "code",
   "execution_count": null,
   "metadata": {
    "collapsed": true
   },
   "outputs": [],
   "source": []
  }
 ],
 "metadata": {
  "kernelspec": {
   "display_name": "Python 3",
   "language": "python",
   "name": "python3"
  },
  "language_info": {
   "codemirror_mode": {
    "name": "ipython",
    "version": 3
   },
   "file_extension": ".py",
   "mimetype": "text/x-python",
   "name": "python",
   "nbconvert_exporter": "python",
   "pygments_lexer": "ipython3",
   "version": "3.6.9"
  }
 },
 "nbformat": 4,
 "nbformat_minor": 4
}
