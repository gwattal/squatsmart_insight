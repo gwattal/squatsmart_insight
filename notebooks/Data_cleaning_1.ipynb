{
 "cells": [
  {
   "cell_type": "code",
   "execution_count": 1,
   "metadata": {},
   "outputs": [],
   "source": [
    "import numpy as np\n",
    "import matplotlib.pyplot as plt\n",
    "import pandas as pd\n",
    "import seaborn as sns"
   ]
  },
  {
   "cell_type": "code",
   "execution_count": 3,
   "metadata": {},
   "outputs": [],
   "source": [
    "df=pd.read_csv(\"./processed_data/stance_width_data5.csv\")"
   ]
  },
  {
   "cell_type": "code",
   "execution_count": 5,
   "metadata": {},
   "outputs": [],
   "source": [
    "df['label_1']=df.label_1.str.lower()"
   ]
  },
  {
   "cell_type": "code",
   "execution_count": 6,
   "metadata": {},
   "outputs": [],
   "source": [
    "df_filt = df.loc[~df.label_1.str.contains(\"not enough info\") ]"
   ]
  },
  {
   "cell_type": "code",
   "execution_count": 7,
   "metadata": {},
   "outputs": [
    {
     "data": {
      "text/html": [
       "<div>\n",
       "<style scoped>\n",
       "    .dataframe tbody tr th:only-of-type {\n",
       "        vertical-align: middle;\n",
       "    }\n",
       "\n",
       "    .dataframe tbody tr th {\n",
       "        vertical-align: top;\n",
       "    }\n",
       "\n",
       "    .dataframe thead th {\n",
       "        text-align: right;\n",
       "    }\n",
       "</style>\n",
       "<table border=\"1\" class=\"dataframe\">\n",
       "  <thead>\n",
       "    <tr style=\"text-align: right;\">\n",
       "      <th></th>\n",
       "      <th>Unnamed: 0</th>\n",
       "      <th>name</th>\n",
       "      <th>stance_heel</th>\n",
       "      <th>confidence_min_heel</th>\n",
       "      <th>stance_ankle</th>\n",
       "      <th>confidence_min_ankle</th>\n",
       "      <th>stance_wgt_avg</th>\n",
       "      <th>confidence_min_wgt_avg</th>\n",
       "      <th>label_1</th>\n",
       "    </tr>\n",
       "  </thead>\n",
       "  <tbody>\n",
       "    <tr>\n",
       "      <th>0</th>\n",
       "      <td>1</td>\n",
       "      <td>image22.png</td>\n",
       "      <td>1.088060</td>\n",
       "      <td>0.482316</td>\n",
       "      <td>1.367805</td>\n",
       "      <td>0.705770</td>\n",
       "      <td>1.252748</td>\n",
       "      <td>0.588181</td>\n",
       "      <td>slightly narrow</td>\n",
       "    </tr>\n",
       "    <tr>\n",
       "      <th>1</th>\n",
       "      <td>11</td>\n",
       "      <td>image23.png</td>\n",
       "      <td>1.091162</td>\n",
       "      <td>0.368627</td>\n",
       "      <td>1.293202</td>\n",
       "      <td>0.586389</td>\n",
       "      <td>1.211121</td>\n",
       "      <td>0.452681</td>\n",
       "      <td>ok</td>\n",
       "    </tr>\n",
       "    <tr>\n",
       "      <th>2</th>\n",
       "      <td>8</td>\n",
       "      <td>images10</td>\n",
       "      <td>1.162537</td>\n",
       "      <td>0.575121</td>\n",
       "      <td>1.311203</td>\n",
       "      <td>0.678523</td>\n",
       "      <td>1.245814</td>\n",
       "      <td>0.653320</td>\n",
       "      <td>ok</td>\n",
       "    </tr>\n",
       "    <tr>\n",
       "      <th>3</th>\n",
       "      <td>4</td>\n",
       "      <td>images14</td>\n",
       "      <td>1.216810</td>\n",
       "      <td>0.658765</td>\n",
       "      <td>1.405309</td>\n",
       "      <td>0.766530</td>\n",
       "      <td>1.317080</td>\n",
       "      <td>0.716048</td>\n",
       "      <td>ok</td>\n",
       "    </tr>\n",
       "    <tr>\n",
       "      <th>4</th>\n",
       "      <td>59</td>\n",
       "      <td>images15</td>\n",
       "      <td>1.027805</td>\n",
       "      <td>0.556757</td>\n",
       "      <td>1.227870</td>\n",
       "      <td>0.739173</td>\n",
       "      <td>1.138717</td>\n",
       "      <td>0.643053</td>\n",
       "      <td>ok</td>\n",
       "    </tr>\n",
       "    <tr>\n",
       "      <th>5</th>\n",
       "      <td>51</td>\n",
       "      <td>images16</td>\n",
       "      <td>0.954208</td>\n",
       "      <td>0.485099</td>\n",
       "      <td>1.164394</td>\n",
       "      <td>0.623391</td>\n",
       "      <td>1.074481</td>\n",
       "      <td>0.553784</td>\n",
       "      <td>slightly narrow</td>\n",
       "    </tr>\n",
       "    <tr>\n",
       "      <th>7</th>\n",
       "      <td>45</td>\n",
       "      <td>images18</td>\n",
       "      <td>1.372329</td>\n",
       "      <td>0.249179</td>\n",
       "      <td>1.545958</td>\n",
       "      <td>0.429907</td>\n",
       "      <td>1.475246</td>\n",
       "      <td>0.315494</td>\n",
       "      <td>slightly wide</td>\n",
       "    </tr>\n",
       "    <tr>\n",
       "      <th>8</th>\n",
       "      <td>22</td>\n",
       "      <td>images19</td>\n",
       "      <td>1.506750</td>\n",
       "      <td>0.541831</td>\n",
       "      <td>1.652482</td>\n",
       "      <td>0.699859</td>\n",
       "      <td>1.586725</td>\n",
       "      <td>0.610789</td>\n",
       "      <td>slightly wide</td>\n",
       "    </tr>\n",
       "    <tr>\n",
       "      <th>9</th>\n",
       "      <td>20</td>\n",
       "      <td>images20</td>\n",
       "      <td>0.999950</td>\n",
       "      <td>0.560490</td>\n",
       "      <td>1.257205</td>\n",
       "      <td>0.761424</td>\n",
       "      <td>1.144011</td>\n",
       "      <td>0.654239</td>\n",
       "      <td>ok</td>\n",
       "    </tr>\n",
       "    <tr>\n",
       "      <th>10</th>\n",
       "      <td>23</td>\n",
       "      <td>images24</td>\n",
       "      <td>0.894968</td>\n",
       "      <td>0.621125</td>\n",
       "      <td>1.092730</td>\n",
       "      <td>0.657739</td>\n",
       "      <td>1.001258</td>\n",
       "      <td>0.657739</td>\n",
       "      <td>slightly narrow</td>\n",
       "    </tr>\n",
       "    <tr>\n",
       "      <th>11</th>\n",
       "      <td>44</td>\n",
       "      <td>images25</td>\n",
       "      <td>0.988986</td>\n",
       "      <td>0.523673</td>\n",
       "      <td>1.180211</td>\n",
       "      <td>0.538656</td>\n",
       "      <td>1.094842</td>\n",
       "      <td>0.538656</td>\n",
       "      <td>ok</td>\n",
       "    </tr>\n",
       "    <tr>\n",
       "      <th>13</th>\n",
       "      <td>29</td>\n",
       "      <td>images27</td>\n",
       "      <td>1.134135</td>\n",
       "      <td>0.604726</td>\n",
       "      <td>1.304911</td>\n",
       "      <td>0.746610</td>\n",
       "      <td>1.227518</td>\n",
       "      <td>0.675203</td>\n",
       "      <td>ok</td>\n",
       "    </tr>\n",
       "    <tr>\n",
       "      <th>14</th>\n",
       "      <td>58</td>\n",
       "      <td>images28</td>\n",
       "      <td>0.095583</td>\n",
       "      <td>0.478187</td>\n",
       "      <td>0.252378</td>\n",
       "      <td>0.614276</td>\n",
       "      <td>0.185479</td>\n",
       "      <td>0.553867</td>\n",
       "      <td>narrow</td>\n",
       "    </tr>\n",
       "    <tr>\n",
       "      <th>16</th>\n",
       "      <td>27</td>\n",
       "      <td>images34</td>\n",
       "      <td>1.708705</td>\n",
       "      <td>0.720442</td>\n",
       "      <td>1.929439</td>\n",
       "      <td>0.805773</td>\n",
       "      <td>1.824012</td>\n",
       "      <td>0.762828</td>\n",
       "      <td>wide</td>\n",
       "    </tr>\n",
       "    <tr>\n",
       "      <th>17</th>\n",
       "      <td>42</td>\n",
       "      <td>images6</td>\n",
       "      <td>1.182376</td>\n",
       "      <td>0.706502</td>\n",
       "      <td>1.418579</td>\n",
       "      <td>0.809727</td>\n",
       "      <td>1.307407</td>\n",
       "      <td>0.758345</td>\n",
       "      <td>ok</td>\n",
       "    </tr>\n",
       "    <tr>\n",
       "      <th>18</th>\n",
       "      <td>26</td>\n",
       "      <td>images7</td>\n",
       "      <td>1.384942</td>\n",
       "      <td>0.781627</td>\n",
       "      <td>1.565313</td>\n",
       "      <td>0.848867</td>\n",
       "      <td>1.479349</td>\n",
       "      <td>0.813860</td>\n",
       "      <td>slightly wide</td>\n",
       "    </tr>\n",
       "    <tr>\n",
       "      <th>19</th>\n",
       "      <td>50</td>\n",
       "      <td>images8</td>\n",
       "      <td>1.339823</td>\n",
       "      <td>0.575919</td>\n",
       "      <td>1.619577</td>\n",
       "      <td>0.766239</td>\n",
       "      <td>1.497070</td>\n",
       "      <td>0.658850</td>\n",
       "      <td>slightly wide</td>\n",
       "    </tr>\n",
       "    <tr>\n",
       "      <th>21</th>\n",
       "      <td>35</td>\n",
       "      <td>IMG_2267.jpeg</td>\n",
       "      <td>0.952904</td>\n",
       "      <td>0.755419</td>\n",
       "      <td>1.111246</td>\n",
       "      <td>0.824873</td>\n",
       "      <td>1.034507</td>\n",
       "      <td>0.788620</td>\n",
       "      <td>ok</td>\n",
       "    </tr>\n",
       "    <tr>\n",
       "      <th>22</th>\n",
       "      <td>25</td>\n",
       "      <td>IMG_2268.jpeg</td>\n",
       "      <td>0.937829</td>\n",
       "      <td>0.739283</td>\n",
       "      <td>1.171519</td>\n",
       "      <td>0.807292</td>\n",
       "      <td>1.063713</td>\n",
       "      <td>0.795230</td>\n",
       "      <td>ok</td>\n",
       "    </tr>\n",
       "    <tr>\n",
       "      <th>23</th>\n",
       "      <td>9</td>\n",
       "      <td>IMG_2270.jpeg</td>\n",
       "      <td>0.906325</td>\n",
       "      <td>0.688003</td>\n",
       "      <td>1.108942</td>\n",
       "      <td>0.754391</td>\n",
       "      <td>1.016777</td>\n",
       "      <td>0.754391</td>\n",
       "      <td>ok</td>\n",
       "    </tr>\n",
       "    <tr>\n",
       "      <th>24</th>\n",
       "      <td>52</td>\n",
       "      <td>IMG_2272.jpeg</td>\n",
       "      <td>1.337791</td>\n",
       "      <td>0.697874</td>\n",
       "      <td>1.526862</td>\n",
       "      <td>0.771437</td>\n",
       "      <td>1.440352</td>\n",
       "      <td>0.750369</td>\n",
       "      <td>wide</td>\n",
       "    </tr>\n",
       "    <tr>\n",
       "      <th>25</th>\n",
       "      <td>21</td>\n",
       "      <td>IMG_2275.jpeg</td>\n",
       "      <td>0.562411</td>\n",
       "      <td>0.768179</td>\n",
       "      <td>0.719151</td>\n",
       "      <td>0.822148</td>\n",
       "      <td>0.642439</td>\n",
       "      <td>0.794248</td>\n",
       "      <td>narrow</td>\n",
       "    </tr>\n",
       "    <tr>\n",
       "      <th>26</th>\n",
       "      <td>31</td>\n",
       "      <td>IMG_2280.jpeg</td>\n",
       "      <td>1.153987</td>\n",
       "      <td>0.668748</td>\n",
       "      <td>1.346850</td>\n",
       "      <td>0.748275</td>\n",
       "      <td>1.260404</td>\n",
       "      <td>0.748275</td>\n",
       "      <td>wide</td>\n",
       "    </tr>\n",
       "    <tr>\n",
       "      <th>27</th>\n",
       "      <td>17</td>\n",
       "      <td>IMG_2288.jpeg</td>\n",
       "      <td>0.960246</td>\n",
       "      <td>0.791725</td>\n",
       "      <td>1.196188</td>\n",
       "      <td>0.869222</td>\n",
       "      <td>1.083547</td>\n",
       "      <td>0.844365</td>\n",
       "      <td>slightly wide</td>\n",
       "    </tr>\n",
       "    <tr>\n",
       "      <th>28</th>\n",
       "      <td>37</td>\n",
       "      <td>IMG_2291.jpeg</td>\n",
       "      <td>1.117245</td>\n",
       "      <td>0.804517</td>\n",
       "      <td>1.389502</td>\n",
       "      <td>0.898632</td>\n",
       "      <td>1.260469</td>\n",
       "      <td>0.860048</td>\n",
       "      <td>wide</td>\n",
       "    </tr>\n",
       "    <tr>\n",
       "      <th>29</th>\n",
       "      <td>54</td>\n",
       "      <td>IMG_2299.jpeg</td>\n",
       "      <td>0.891812</td>\n",
       "      <td>0.769523</td>\n",
       "      <td>0.998908</td>\n",
       "      <td>0.851284</td>\n",
       "      <td>0.947532</td>\n",
       "      <td>0.815561</td>\n",
       "      <td>ok</td>\n",
       "    </tr>\n",
       "    <tr>\n",
       "      <th>30</th>\n",
       "      <td>55</td>\n",
       "      <td>IMG_2304.jpeg</td>\n",
       "      <td>1.542255</td>\n",
       "      <td>0.728152</td>\n",
       "      <td>1.605737</td>\n",
       "      <td>0.872356</td>\n",
       "      <td>1.576801</td>\n",
       "      <td>0.801690</td>\n",
       "      <td>wide</td>\n",
       "    </tr>\n",
       "    <tr>\n",
       "      <th>31</th>\n",
       "      <td>57</td>\n",
       "      <td>IMG_2307.jpeg</td>\n",
       "      <td>0.416765</td>\n",
       "      <td>0.807906</td>\n",
       "      <td>0.519864</td>\n",
       "      <td>0.884817</td>\n",
       "      <td>0.470490</td>\n",
       "      <td>0.847739</td>\n",
       "      <td>narrow</td>\n",
       "    </tr>\n",
       "    <tr>\n",
       "      <th>32</th>\n",
       "      <td>0</td>\n",
       "      <td>IMG_2316.jpeg</td>\n",
       "      <td>0.666653</td>\n",
       "      <td>0.818403</td>\n",
       "      <td>0.777341</td>\n",
       "      <td>0.870545</td>\n",
       "      <td>0.723148</td>\n",
       "      <td>0.843669</td>\n",
       "      <td>narrow</td>\n",
       "    </tr>\n",
       "    <tr>\n",
       "      <th>33</th>\n",
       "      <td>18</td>\n",
       "      <td>IMG_2318.jpeg</td>\n",
       "      <td>1.195191</td>\n",
       "      <td>0.763475</td>\n",
       "      <td>1.345940</td>\n",
       "      <td>0.869715</td>\n",
       "      <td>1.274354</td>\n",
       "      <td>0.813140</td>\n",
       "      <td>slightly wide</td>\n",
       "    </tr>\n",
       "    <tr>\n",
       "      <th>34</th>\n",
       "      <td>30</td>\n",
       "      <td>IMG_2320.jpeg</td>\n",
       "      <td>1.607485</td>\n",
       "      <td>0.834501</td>\n",
       "      <td>1.715565</td>\n",
       "      <td>0.862806</td>\n",
       "      <td>1.662447</td>\n",
       "      <td>0.856432</td>\n",
       "      <td>wide</td>\n",
       "    </tr>\n",
       "    <tr>\n",
       "      <th>35</th>\n",
       "      <td>47</td>\n",
       "      <td>IMG_2322.jpeg</td>\n",
       "      <td>0.203152</td>\n",
       "      <td>0.813802</td>\n",
       "      <td>0.369577</td>\n",
       "      <td>0.840651</td>\n",
       "      <td>0.288229</td>\n",
       "      <td>0.840651</td>\n",
       "      <td>narrow</td>\n",
       "    </tr>\n",
       "    <tr>\n",
       "      <th>36</th>\n",
       "      <td>28</td>\n",
       "      <td>IMG_3001.png</td>\n",
       "      <td>0.917613</td>\n",
       "      <td>0.660212</td>\n",
       "      <td>1.123399</td>\n",
       "      <td>0.727222</td>\n",
       "      <td>1.030732</td>\n",
       "      <td>0.727222</td>\n",
       "      <td>ok</td>\n",
       "    </tr>\n",
       "    <tr>\n",
       "      <th>37</th>\n",
       "      <td>2</td>\n",
       "      <td>IMG_3002.png</td>\n",
       "      <td>1.336526</td>\n",
       "      <td>0.690680</td>\n",
       "      <td>1.526040</td>\n",
       "      <td>0.765969</td>\n",
       "      <td>1.439324</td>\n",
       "      <td>0.759765</td>\n",
       "      <td>wide</td>\n",
       "    </tr>\n",
       "    <tr>\n",
       "      <th>38</th>\n",
       "      <td>13</td>\n",
       "      <td>IMG_3003.png</td>\n",
       "      <td>1.168984</td>\n",
       "      <td>0.641752</td>\n",
       "      <td>1.376481</td>\n",
       "      <td>0.766730</td>\n",
       "      <td>1.284106</td>\n",
       "      <td>0.724859</td>\n",
       "      <td>wide</td>\n",
       "    </tr>\n",
       "    <tr>\n",
       "      <th>39</th>\n",
       "      <td>32</td>\n",
       "      <td>IMG_3004.png</td>\n",
       "      <td>1.389198</td>\n",
       "      <td>0.780031</td>\n",
       "      <td>1.591779</td>\n",
       "      <td>0.869899</td>\n",
       "      <td>1.494909</td>\n",
       "      <td>0.828887</td>\n",
       "      <td>wide</td>\n",
       "    </tr>\n",
       "    <tr>\n",
       "      <th>40</th>\n",
       "      <td>24</td>\n",
       "      <td>IMG_3005.png</td>\n",
       "      <td>1.307753</td>\n",
       "      <td>0.809898</td>\n",
       "      <td>1.519510</td>\n",
       "      <td>0.869242</td>\n",
       "      <td>1.418585</td>\n",
       "      <td>0.851090</td>\n",
       "      <td>wide</td>\n",
       "    </tr>\n",
       "    <tr>\n",
       "      <th>41</th>\n",
       "      <td>16</td>\n",
       "      <td>IMG_3006.png</td>\n",
       "      <td>0.854688</td>\n",
       "      <td>0.816811</td>\n",
       "      <td>1.104904</td>\n",
       "      <td>0.829320</td>\n",
       "      <td>0.985749</td>\n",
       "      <td>0.829320</td>\n",
       "      <td>ok</td>\n",
       "    </tr>\n",
       "    <tr>\n",
       "      <th>42</th>\n",
       "      <td>6</td>\n",
       "      <td>IMG_3007.png</td>\n",
       "      <td>0.312059</td>\n",
       "      <td>0.856101</td>\n",
       "      <td>0.499763</td>\n",
       "      <td>0.881784</td>\n",
       "      <td>0.405600</td>\n",
       "      <td>0.881784</td>\n",
       "      <td>narrow</td>\n",
       "    </tr>\n",
       "    <tr>\n",
       "      <th>43</th>\n",
       "      <td>39</td>\n",
       "      <td>IMG_3008.png</td>\n",
       "      <td>1.643471</td>\n",
       "      <td>0.749486</td>\n",
       "      <td>1.864391</td>\n",
       "      <td>0.877250</td>\n",
       "      <td>1.759799</td>\n",
       "      <td>0.809625</td>\n",
       "      <td>wide</td>\n",
       "    </tr>\n",
       "    <tr>\n",
       "      <th>44</th>\n",
       "      <td>46</td>\n",
       "      <td>IMG_3009.png</td>\n",
       "      <td>1.485164</td>\n",
       "      <td>0.557777</td>\n",
       "      <td>1.653590</td>\n",
       "      <td>0.660884</td>\n",
       "      <td>1.580834</td>\n",
       "      <td>0.658219</td>\n",
       "      <td>wide</td>\n",
       "    </tr>\n",
       "    <tr>\n",
       "      <th>45</th>\n",
       "      <td>40</td>\n",
       "      <td>IMG_3010.png</td>\n",
       "      <td>0.404195</td>\n",
       "      <td>0.589073</td>\n",
       "      <td>0.384293</td>\n",
       "      <td>0.711150</td>\n",
       "      <td>0.400506</td>\n",
       "      <td>0.686539</td>\n",
       "      <td>narrow</td>\n",
       "    </tr>\n",
       "    <tr>\n",
       "      <th>46</th>\n",
       "      <td>33</td>\n",
       "      <td>IMG_3011.png</td>\n",
       "      <td>1.320328</td>\n",
       "      <td>0.547423</td>\n",
       "      <td>1.475806</td>\n",
       "      <td>0.553087</td>\n",
       "      <td>1.407684</td>\n",
       "      <td>0.553087</td>\n",
       "      <td>slightly wide</td>\n",
       "    </tr>\n",
       "    <tr>\n",
       "      <th>47</th>\n",
       "      <td>56</td>\n",
       "      <td>IMG_3012.png</td>\n",
       "      <td>0.722130</td>\n",
       "      <td>0.654070</td>\n",
       "      <td>0.891617</td>\n",
       "      <td>0.741535</td>\n",
       "      <td>0.816317</td>\n",
       "      <td>0.736820</td>\n",
       "      <td>slightly narrow</td>\n",
       "    </tr>\n",
       "    <tr>\n",
       "      <th>48</th>\n",
       "      <td>49</td>\n",
       "      <td>IMG_3013.png</td>\n",
       "      <td>0.710998</td>\n",
       "      <td>0.599665</td>\n",
       "      <td>0.876420</td>\n",
       "      <td>0.673169</td>\n",
       "      <td>0.805331</td>\n",
       "      <td>0.673169</td>\n",
       "      <td>slightly narrow</td>\n",
       "    </tr>\n",
       "    <tr>\n",
       "      <th>49</th>\n",
       "      <td>36</td>\n",
       "      <td>IMG_3014.png</td>\n",
       "      <td>0.717759</td>\n",
       "      <td>0.504674</td>\n",
       "      <td>0.872670</td>\n",
       "      <td>0.504674</td>\n",
       "      <td>0.806006</td>\n",
       "      <td>0.504674</td>\n",
       "      <td>narrow</td>\n",
       "    </tr>\n",
       "    <tr>\n",
       "      <th>50</th>\n",
       "      <td>43</td>\n",
       "      <td>IMG_3015.png</td>\n",
       "      <td>0.743452</td>\n",
       "      <td>0.738193</td>\n",
       "      <td>0.952162</td>\n",
       "      <td>0.856113</td>\n",
       "      <td>0.854747</td>\n",
       "      <td>0.821035</td>\n",
       "      <td>ok</td>\n",
       "    </tr>\n",
       "    <tr>\n",
       "      <th>51</th>\n",
       "      <td>53</td>\n",
       "      <td>IMG_3016.png</td>\n",
       "      <td>0.809480</td>\n",
       "      <td>0.748248</td>\n",
       "      <td>1.000211</td>\n",
       "      <td>0.879279</td>\n",
       "      <td>0.908488</td>\n",
       "      <td>0.826800</td>\n",
       "      <td>ok</td>\n",
       "    </tr>\n",
       "    <tr>\n",
       "      <th>52</th>\n",
       "      <td>38</td>\n",
       "      <td>index_11</td>\n",
       "      <td>0.853401</td>\n",
       "      <td>0.521433</td>\n",
       "      <td>1.102739</td>\n",
       "      <td>0.673040</td>\n",
       "      <td>0.995097</td>\n",
       "      <td>0.602593</td>\n",
       "      <td>narrow</td>\n",
       "    </tr>\n",
       "    <tr>\n",
       "      <th>53</th>\n",
       "      <td>41</td>\n",
       "      <td>index_12</td>\n",
       "      <td>1.868986</td>\n",
       "      <td>0.525820</td>\n",
       "      <td>2.087329</td>\n",
       "      <td>0.694675</td>\n",
       "      <td>1.993503</td>\n",
       "      <td>0.599628</td>\n",
       "      <td>wide</td>\n",
       "    </tr>\n",
       "    <tr>\n",
       "      <th>54</th>\n",
       "      <td>19</td>\n",
       "      <td>index_13</td>\n",
       "      <td>1.141380</td>\n",
       "      <td>0.491521</td>\n",
       "      <td>1.384239</td>\n",
       "      <td>0.632169</td>\n",
       "      <td>1.278475</td>\n",
       "      <td>0.568982</td>\n",
       "      <td>ok</td>\n",
       "    </tr>\n",
       "    <tr>\n",
       "      <th>56</th>\n",
       "      <td>60</td>\n",
       "      <td>index_4</td>\n",
       "      <td>1.176942</td>\n",
       "      <td>0.707051</td>\n",
       "      <td>1.370889</td>\n",
       "      <td>0.794067</td>\n",
       "      <td>1.277595</td>\n",
       "      <td>0.751302</td>\n",
       "      <td>ok</td>\n",
       "    </tr>\n",
       "    <tr>\n",
       "      <th>57</th>\n",
       "      <td>3</td>\n",
       "      <td>index_5</td>\n",
       "      <td>1.168408</td>\n",
       "      <td>0.681816</td>\n",
       "      <td>1.376687</td>\n",
       "      <td>0.730453</td>\n",
       "      <td>1.276671</td>\n",
       "      <td>0.705297</td>\n",
       "      <td>slightly wide</td>\n",
       "    </tr>\n",
       "    <tr>\n",
       "      <th>58</th>\n",
       "      <td>7</td>\n",
       "      <td>index31</td>\n",
       "      <td>0.658245</td>\n",
       "      <td>0.428329</td>\n",
       "      <td>0.849857</td>\n",
       "      <td>0.622354</td>\n",
       "      <td>0.770175</td>\n",
       "      <td>0.517531</td>\n",
       "      <td>narrow</td>\n",
       "    </tr>\n",
       "    <tr>\n",
       "      <th>59</th>\n",
       "      <td>15</td>\n",
       "      <td>index32</td>\n",
       "      <td>1.544170</td>\n",
       "      <td>0.583366</td>\n",
       "      <td>1.721727</td>\n",
       "      <td>0.693926</td>\n",
       "      <td>1.640780</td>\n",
       "      <td>0.633861</td>\n",
       "      <td>slightly wide</td>\n",
       "    </tr>\n",
       "    <tr>\n",
       "      <th>60</th>\n",
       "      <td>48</td>\n",
       "      <td>index33</td>\n",
       "      <td>1.096472</td>\n",
       "      <td>0.480948</td>\n",
       "      <td>1.281474</td>\n",
       "      <td>0.663570</td>\n",
       "      <td>1.201170</td>\n",
       "      <td>0.557690</td>\n",
       "      <td>ok</td>\n",
       "    </tr>\n",
       "  </tbody>\n",
       "</table>\n",
       "</div>"
      ],
      "text/plain": [
       "    Unnamed: 0           name  stance_heel  confidence_min_heel  stance_ankle  \\\n",
       "0            1    image22.png     1.088060             0.482316      1.367805   \n",
       "1           11    image23.png     1.091162             0.368627      1.293202   \n",
       "2            8       images10     1.162537             0.575121      1.311203   \n",
       "3            4       images14     1.216810             0.658765      1.405309   \n",
       "4           59       images15     1.027805             0.556757      1.227870   \n",
       "5           51       images16     0.954208             0.485099      1.164394   \n",
       "7           45       images18     1.372329             0.249179      1.545958   \n",
       "8           22       images19     1.506750             0.541831      1.652482   \n",
       "9           20       images20     0.999950             0.560490      1.257205   \n",
       "10          23       images24     0.894968             0.621125      1.092730   \n",
       "11          44       images25     0.988986             0.523673      1.180211   \n",
       "13          29       images27     1.134135             0.604726      1.304911   \n",
       "14          58       images28     0.095583             0.478187      0.252378   \n",
       "16          27       images34     1.708705             0.720442      1.929439   \n",
       "17          42        images6     1.182376             0.706502      1.418579   \n",
       "18          26        images7     1.384942             0.781627      1.565313   \n",
       "19          50        images8     1.339823             0.575919      1.619577   \n",
       "21          35  IMG_2267.jpeg     0.952904             0.755419      1.111246   \n",
       "22          25  IMG_2268.jpeg     0.937829             0.739283      1.171519   \n",
       "23           9  IMG_2270.jpeg     0.906325             0.688003      1.108942   \n",
       "24          52  IMG_2272.jpeg     1.337791             0.697874      1.526862   \n",
       "25          21  IMG_2275.jpeg     0.562411             0.768179      0.719151   \n",
       "26          31  IMG_2280.jpeg     1.153987             0.668748      1.346850   \n",
       "27          17  IMG_2288.jpeg     0.960246             0.791725      1.196188   \n",
       "28          37  IMG_2291.jpeg     1.117245             0.804517      1.389502   \n",
       "29          54  IMG_2299.jpeg     0.891812             0.769523      0.998908   \n",
       "30          55  IMG_2304.jpeg     1.542255             0.728152      1.605737   \n",
       "31          57  IMG_2307.jpeg     0.416765             0.807906      0.519864   \n",
       "32           0  IMG_2316.jpeg     0.666653             0.818403      0.777341   \n",
       "33          18  IMG_2318.jpeg     1.195191             0.763475      1.345940   \n",
       "34          30  IMG_2320.jpeg     1.607485             0.834501      1.715565   \n",
       "35          47  IMG_2322.jpeg     0.203152             0.813802      0.369577   \n",
       "36          28   IMG_3001.png     0.917613             0.660212      1.123399   \n",
       "37           2   IMG_3002.png     1.336526             0.690680      1.526040   \n",
       "38          13   IMG_3003.png     1.168984             0.641752      1.376481   \n",
       "39          32   IMG_3004.png     1.389198             0.780031      1.591779   \n",
       "40          24   IMG_3005.png     1.307753             0.809898      1.519510   \n",
       "41          16   IMG_3006.png     0.854688             0.816811      1.104904   \n",
       "42           6   IMG_3007.png     0.312059             0.856101      0.499763   \n",
       "43          39   IMG_3008.png     1.643471             0.749486      1.864391   \n",
       "44          46   IMG_3009.png     1.485164             0.557777      1.653590   \n",
       "45          40   IMG_3010.png     0.404195             0.589073      0.384293   \n",
       "46          33   IMG_3011.png     1.320328             0.547423      1.475806   \n",
       "47          56   IMG_3012.png     0.722130             0.654070      0.891617   \n",
       "48          49   IMG_3013.png     0.710998             0.599665      0.876420   \n",
       "49          36   IMG_3014.png     0.717759             0.504674      0.872670   \n",
       "50          43   IMG_3015.png     0.743452             0.738193      0.952162   \n",
       "51          53   IMG_3016.png     0.809480             0.748248      1.000211   \n",
       "52          38       index_11     0.853401             0.521433      1.102739   \n",
       "53          41       index_12     1.868986             0.525820      2.087329   \n",
       "54          19       index_13     1.141380             0.491521      1.384239   \n",
       "56          60        index_4     1.176942             0.707051      1.370889   \n",
       "57           3        index_5     1.168408             0.681816      1.376687   \n",
       "58           7        index31     0.658245             0.428329      0.849857   \n",
       "59          15        index32     1.544170             0.583366      1.721727   \n",
       "60          48        index33     1.096472             0.480948      1.281474   \n",
       "\n",
       "    confidence_min_ankle  stance_wgt_avg  confidence_min_wgt_avg  \\\n",
       "0               0.705770        1.252748                0.588181   \n",
       "1               0.586389        1.211121                0.452681   \n",
       "2               0.678523        1.245814                0.653320   \n",
       "3               0.766530        1.317080                0.716048   \n",
       "4               0.739173        1.138717                0.643053   \n",
       "5               0.623391        1.074481                0.553784   \n",
       "7               0.429907        1.475246                0.315494   \n",
       "8               0.699859        1.586725                0.610789   \n",
       "9               0.761424        1.144011                0.654239   \n",
       "10              0.657739        1.001258                0.657739   \n",
       "11              0.538656        1.094842                0.538656   \n",
       "13              0.746610        1.227518                0.675203   \n",
       "14              0.614276        0.185479                0.553867   \n",
       "16              0.805773        1.824012                0.762828   \n",
       "17              0.809727        1.307407                0.758345   \n",
       "18              0.848867        1.479349                0.813860   \n",
       "19              0.766239        1.497070                0.658850   \n",
       "21              0.824873        1.034507                0.788620   \n",
       "22              0.807292        1.063713                0.795230   \n",
       "23              0.754391        1.016777                0.754391   \n",
       "24              0.771437        1.440352                0.750369   \n",
       "25              0.822148        0.642439                0.794248   \n",
       "26              0.748275        1.260404                0.748275   \n",
       "27              0.869222        1.083547                0.844365   \n",
       "28              0.898632        1.260469                0.860048   \n",
       "29              0.851284        0.947532                0.815561   \n",
       "30              0.872356        1.576801                0.801690   \n",
       "31              0.884817        0.470490                0.847739   \n",
       "32              0.870545        0.723148                0.843669   \n",
       "33              0.869715        1.274354                0.813140   \n",
       "34              0.862806        1.662447                0.856432   \n",
       "35              0.840651        0.288229                0.840651   \n",
       "36              0.727222        1.030732                0.727222   \n",
       "37              0.765969        1.439324                0.759765   \n",
       "38              0.766730        1.284106                0.724859   \n",
       "39              0.869899        1.494909                0.828887   \n",
       "40              0.869242        1.418585                0.851090   \n",
       "41              0.829320        0.985749                0.829320   \n",
       "42              0.881784        0.405600                0.881784   \n",
       "43              0.877250        1.759799                0.809625   \n",
       "44              0.660884        1.580834                0.658219   \n",
       "45              0.711150        0.400506                0.686539   \n",
       "46              0.553087        1.407684                0.553087   \n",
       "47              0.741535        0.816317                0.736820   \n",
       "48              0.673169        0.805331                0.673169   \n",
       "49              0.504674        0.806006                0.504674   \n",
       "50              0.856113        0.854747                0.821035   \n",
       "51              0.879279        0.908488                0.826800   \n",
       "52              0.673040        0.995097                0.602593   \n",
       "53              0.694675        1.993503                0.599628   \n",
       "54              0.632169        1.278475                0.568982   \n",
       "56              0.794067        1.277595                0.751302   \n",
       "57              0.730453        1.276671                0.705297   \n",
       "58              0.622354        0.770175                0.517531   \n",
       "59              0.693926        1.640780                0.633861   \n",
       "60              0.663570        1.201170                0.557690   \n",
       "\n",
       "            label_1  \n",
       "0   slightly narrow  \n",
       "1                ok  \n",
       "2                ok  \n",
       "3                ok  \n",
       "4                ok  \n",
       "5   slightly narrow  \n",
       "7     slightly wide  \n",
       "8     slightly wide  \n",
       "9                ok  \n",
       "10  slightly narrow  \n",
       "11               ok  \n",
       "13               ok  \n",
       "14           narrow  \n",
       "16             wide  \n",
       "17               ok  \n",
       "18    slightly wide  \n",
       "19    slightly wide  \n",
       "21               ok  \n",
       "22               ok  \n",
       "23               ok  \n",
       "24             wide  \n",
       "25           narrow  \n",
       "26             wide  \n",
       "27    slightly wide  \n",
       "28             wide  \n",
       "29               ok  \n",
       "30             wide  \n",
       "31           narrow  \n",
       "32           narrow  \n",
       "33    slightly wide  \n",
       "34             wide  \n",
       "35           narrow  \n",
       "36               ok  \n",
       "37             wide  \n",
       "38             wide  \n",
       "39             wide  \n",
       "40             wide  \n",
       "41               ok  \n",
       "42           narrow  \n",
       "43             wide  \n",
       "44             wide  \n",
       "45           narrow  \n",
       "46    slightly wide  \n",
       "47  slightly narrow  \n",
       "48  slightly narrow  \n",
       "49           narrow  \n",
       "50               ok  \n",
       "51               ok  \n",
       "52           narrow  \n",
       "53             wide  \n",
       "54               ok  \n",
       "56               ok  \n",
       "57    slightly wide  \n",
       "58           narrow  \n",
       "59    slightly wide  \n",
       "60               ok  "
      ]
     },
     "execution_count": 7,
     "metadata": {},
     "output_type": "execute_result"
    }
   ],
   "source": [
    "df_filt"
   ]
  },
  {
   "cell_type": "code",
   "execution_count": 8,
   "metadata": {},
   "outputs": [
    {
     "name": "stderr",
     "output_type": "stream",
     "text": [
      "/Users/gwattal/Library/Python/3.7/lib/python/site-packages/pandas/core/indexing.py:966: SettingWithCopyWarning: \n",
      "A value is trying to be set on a copy of a slice from a DataFrame.\n",
      "Try using .loc[row_indexer,col_indexer] = value instead\n",
      "\n",
      "See the caveats in the documentation: https://pandas.pydata.org/pandas-docs/stable/user_guide/indexing.html#returning-a-view-versus-a-copy\n",
      "  self.obj[item] = s\n"
     ]
    }
   ],
   "source": [
    "df_filt.loc[df_filt.label_1=='narrow','label_1']='01'\n",
    "df_filt.loc[df_filt.label_1=='slightly narrow','label_1']='02'\n",
    "df_filt.loc[df_filt.label_1=='ok','label_1']='03'\n",
    "df_filt.loc[df_filt.label_1=='slightly wide','label_1']='04'\n",
    "df_filt.loc[df_filt.label_1=='wide','label_1']='05'"
   ]
  },
  {
   "cell_type": "code",
   "execution_count": 9,
   "metadata": {},
   "outputs": [],
   "source": [
    "df_filt2 =df_filt.query('confidence_min_wgt_avg > 0.7')"
   ]
  },
  {
   "cell_type": "code",
   "execution_count": 14,
   "metadata": {},
   "outputs": [
    {
     "data": {
      "text/plain": [
       "<matplotlib.axes._subplots.AxesSubplot at 0x12427f690>"
      ]
     },
     "execution_count": 14,
     "metadata": {},
     "output_type": "execute_result"
    },
    {
     "data": {
      "image/png": "[encoded data removed]",
      "text/plain": [
       "<Figure size 720x360 with 1 Axes>"
      ]
     },
     "metadata": {
      "needs_background": "light"
     },
     "output_type": "display_data"
    }
   ],
   "source": [
    "fig,ax = plt.subplots(figsize=(10,5))\n",
    "sns.scatterplot(x='label_1',y='stance_wgt_avg',data=df_filt2.query('confidence_min_wgt_avg > 0.72').sort_values('label_1') ,\n",
    "                ax=ax, hue='confidence_min_wgt_avg')"
   ]
  },
  {
   "cell_type": "code",
   "execution_count": 17,
   "metadata": {
    "scrolled": true
   },
   "outputs": [
    {
     "data": {
      "text/plain": [
       "<bound method DataFrame.info of     Unnamed: 0           name  stance_heel  confidence_min_heel  stance_ankle  \\\n",
       "3            4       images14     1.216810             0.658765      1.405309   \n",
       "16          27       images34     1.708705             0.720442      1.929439   \n",
       "17          42        images6     1.182376             0.706502      1.418579   \n",
       "18          26        images7     1.384942             0.781627      1.565313   \n",
       "21          35  IMG_2267.jpeg     0.952904             0.755419      1.111246   \n",
       "22          25  IMG_2268.jpeg     0.937829             0.739283      1.171519   \n",
       "23           9  IMG_2270.jpeg     0.906325             0.688003      1.108942   \n",
       "24          52  IMG_2272.jpeg     1.337791             0.697874      1.526862   \n",
       "25          21  IMG_2275.jpeg     0.562411             0.768179      0.719151   \n",
       "26          31  IMG_2280.jpeg     1.153987             0.668748      1.346850   \n",
       "27          17  IMG_2288.jpeg     0.960246             0.791725      1.196188   \n",
       "28          37  IMG_2291.jpeg     1.117245             0.804517      1.389502   \n",
       "29          54  IMG_2299.jpeg     0.891812             0.769523      0.998908   \n",
       "30          55  IMG_2304.jpeg     1.542255             0.728152      1.605737   \n",
       "31          57  IMG_2307.jpeg     0.416765             0.807906      0.519864   \n",
       "32           0  IMG_2316.jpeg     0.666653             0.818403      0.777341   \n",
       "33          18  IMG_2318.jpeg     1.195191             0.763475      1.345940   \n",
       "34          30  IMG_2320.jpeg     1.607485             0.834501      1.715565   \n",
       "35          47  IMG_2322.jpeg     0.203152             0.813802      0.369577   \n",
       "36          28   IMG_3001.png     0.917613             0.660212      1.123399   \n",
       "37           2   IMG_3002.png     1.336526             0.690680      1.526040   \n",
       "38          13   IMG_3003.png     1.168984             0.641752      1.376481   \n",
       "39          32   IMG_3004.png     1.389198             0.780031      1.591779   \n",
       "40          24   IMG_3005.png     1.307753             0.809898      1.519510   \n",
       "41          16   IMG_3006.png     0.854688             0.816811      1.104904   \n",
       "42           6   IMG_3007.png     0.312059             0.856101      0.499763   \n",
       "43          39   IMG_3008.png     1.643471             0.749486      1.864391   \n",
       "47          56   IMG_3012.png     0.722130             0.654070      0.891617   \n",
       "50          43   IMG_3015.png     0.743452             0.738193      0.952162   \n",
       "51          53   IMG_3016.png     0.809480             0.748248      1.000211   \n",
       "56          60        index_4     1.176942             0.707051      1.370889   \n",
       "57           3        index_5     1.168408             0.681816      1.376687   \n",
       "\n",
       "    confidence_min_ankle  stance_wgt_avg  confidence_min_wgt_avg label_1  \n",
       "3               0.766530        1.317080                0.716048      03  \n",
       "16              0.805773        1.824012                0.762828      05  \n",
       "17              0.809727        1.307407                0.758345      03  \n",
       "18              0.848867        1.479349                0.813860      04  \n",
       "21              0.824873        1.034507                0.788620      03  \n",
       "22              0.807292        1.063713                0.795230      03  \n",
       "23              0.754391        1.016777                0.754391      03  \n",
       "24              0.771437        1.440352                0.750369      05  \n",
       "25              0.822148        0.642439                0.794248      01  \n",
       "26              0.748275        1.260404                0.748275      05  \n",
       "27              0.869222        1.083547                0.844365      04  \n",
       "28              0.898632        1.260469                0.860048      05  \n",
       "29              0.851284        0.947532                0.815561      03  \n",
       "30              0.872356        1.576801                0.801690      05  \n",
       "31              0.884817        0.470490                0.847739      01  \n",
       "32              0.870545        0.723148                0.843669      01  \n",
       "33              0.869715        1.274354                0.813140      04  \n",
       "34              0.862806        1.662447                0.856432      05  \n",
       "35              0.840651        0.288229                0.840651      01  \n",
       "36              0.727222        1.030732                0.727222      03  \n",
       "37              0.765969        1.439324                0.759765      05  \n",
       "38              0.766730        1.284106                0.724859      05  \n",
       "39              0.869899        1.494909                0.828887      05  \n",
       "40              0.869242        1.418585                0.851090      05  \n",
       "41              0.829320        0.985749                0.829320      03  \n",
       "42              0.881784        0.405600                0.881784      01  \n",
       "43              0.877250        1.759799                0.809625      05  \n",
       "47              0.741535        0.816317                0.736820      02  \n",
       "50              0.856113        0.854747                0.821035      03  \n",
       "51              0.879279        0.908488                0.826800      03  \n",
       "56              0.794067        1.277595                0.751302      03  \n",
       "57              0.730453        1.276671                0.705297      04  >"
      ]
     },
     "execution_count": 17,
     "metadata": {},
     "output_type": "execute_result"
    }
   ],
   "source": [
    "y=df_filt2.label_1"
   ]
  },
  {
   "cell_type": "code",
   "execution_count": 18,
   "metadata": {},
   "outputs": [],
   "source": [
    "name=df_filt2.name.values"
   ]
  },
  {
   "cell_type": "code",
   "execution_count": 19,
   "metadata": {},
   "outputs": [],
   "source": [
    "path=\"/Users/gwattal/squatsmart/output_keypoints/\""
   ]
  },
  {
   "cell_type": "code",
   "execution_count": 62,
   "metadata": {},
   "outputs": [],
   "source": [
    "features=[]\n",
    "for file in name:\n",
    "    #print(file)\n",
    "    xi,yi,c=np.loadtxt(path + file+\"_keypoints.txt\").T\n",
    "    features.append(np.hstack((xi,yi))/max(np.hstack((xi,yi))))\n",
    "    "
   ]
  },
  {
   "cell_type": "code",
   "execution_count": 38,
   "metadata": {},
   "outputs": [
    {
     "data": {
      "text/plain": [
       "array([113.72047424, 111.87717438,  88.75378418,  66.84728241,\n",
       "        66.85102844, 135.64389038, 152.6709137 , 158.73802185,\n",
       "       111.9036026 ,  97.8788681 ,  65.63371277,  80.22789001,\n",
       "       125.89848328, 159.37908936, 144.78089905, 110.05773163,\n",
       "       117.37731171, 103.36345673, 122.83898926, 161.8102417 ,\n",
       "       163.00740051, 139.89212036,  66.23136902,  65.6210022 ,\n",
       "        85.10536194])"
      ]
     },
     "execution_count": 38,
     "metadata": {},
     "output_type": "execute_result"
    }
   ],
   "source": [
    "xi"
   ]
  },
  {
   "cell_type": "code",
   "execution_count": 39,
   "metadata": {},
   "outputs": [
    {
     "data": {
      "text/plain": [
       "array([ 72.92272949,  94.85365295,  94.86697388, 120.40473175,\n",
       "        95.46169281,  94.84368896, 118.58982086,  97.88195801,\n",
       "       143.54379272, 143.54251099, 147.17677307, 187.98762512,\n",
       "       142.92376709, 142.93817139, 186.7502594 ,  68.67242432,\n",
       "        69.27539825,  69.26634216,  70.48763275, 198.9503479 ,\n",
       "       197.09393311, 190.41242981, 199.5499115 , 197.1197052 ,\n",
       "       191.00746155])"
      ]
     },
     "execution_count": 39,
     "metadata": {},
     "output_type": "execute_result"
    }
   ],
   "source": [
    "yi"
   ]
  },
  {
   "cell_type": "code",
   "execution_count": 41,
   "metadata": {},
   "outputs": [
    {
     "data": {
      "text/plain": [
       "array([113.72047424, 111.87717438,  88.75378418,  66.84728241,\n",
       "        66.85102844, 135.64389038, 152.6709137 , 158.73802185,\n",
       "       111.9036026 ,  97.8788681 ,  65.63371277,  80.22789001,\n",
       "       125.89848328, 159.37908936, 144.78089905, 110.05773163,\n",
       "       117.37731171, 103.36345673, 122.83898926, 161.8102417 ,\n",
       "       163.00740051, 139.89212036,  66.23136902,  65.6210022 ,\n",
       "        85.10536194,  72.92272949,  94.85365295,  94.86697388,\n",
       "       120.40473175,  95.46169281,  94.84368896, 118.58982086,\n",
       "        97.88195801, 143.54379272, 143.54251099, 147.17677307,\n",
       "       187.98762512, 142.92376709, 142.93817139, 186.7502594 ,\n",
       "        68.67242432,  69.27539825,  69.26634216,  70.48763275,\n",
       "       198.9503479 , 197.09393311, 190.41242981, 199.5499115 ,\n",
       "       197.1197052 , 191.00746155])"
      ]
     },
     "execution_count": 41,
     "metadata": {},
     "output_type": "execute_result"
    }
   ],
   "source": [
    "np.hstack((xi,yi))"
   ]
  },
  {
   "cell_type": "code",
   "execution_count": 63,
   "metadata": {},
   "outputs": [],
   "source": [
    "X=np.asarray(features)"
   ]
  },
  {
   "cell_type": "code",
   "execution_count": 53,
   "metadata": {},
   "outputs": [],
   "source": [
    "Y=df_filt2.label_1.values"
   ]
  },
  {
   "cell_type": "code",
   "execution_count": 60,
   "metadata": {},
   "outputs": [],
   "source": [
    "Y=Y.astype(int)"
   ]
  },
  {
   "cell_type": "code",
   "execution_count": 61,
   "metadata": {},
   "outputs": [
    {
     "data": {
      "text/plain": [
       "array([3, 5, 3, 4, 3, 3, 3, 5, 1, 5, 4, 5, 3, 5, 1, 1, 4, 5, 1, 3, 5, 5,\n",
       "       5, 5, 3, 1, 5, 2, 3, 3, 3, 4])"
      ]
     },
     "execution_count": 61,
     "metadata": {},
     "output_type": "execute_result"
    }
   ],
   "source": [
    "Y"
   ]
  },
  {
   "cell_type": "code",
   "execution_count": 69,
   "metadata": {
    "scrolled": true
   },
   "outputs": [
    {
     "data": {
      "text/plain": [
       "(32, 50)"
      ]
     },
     "execution_count": 69,
     "metadata": {},
     "output_type": "execute_result"
    }
   ],
   "source": [
    "X.shape"
   ]
  },
  {
   "cell_type": "code",
   "execution_count": 71,
   "metadata": {},
   "outputs": [
    {
     "data": {
      "text/plain": [
       "(32,)"
      ]
     },
     "execution_count": 71,
     "metadata": {},
     "output_type": "execute_result"
    }
   ],
   "source": [
    "Y.shape"
   ]
  },
  {
   "cell_type": "code",
   "execution_count": 72,
   "metadata": {},
   "outputs": [],
   "source": [
    "from sklearn.model_selection import train_test_split"
   ]
  },
  {
   "cell_type": "code",
   "execution_count": 74,
   "metadata": {},
   "outputs": [],
   "source": [
    "X_train, X_test, y_train, y_test = train_test_split(\n",
    "...     X, Y, test_size=0.33, random_state=42)"
   ]
  },
  {
   "cell_type": "code",
   "execution_count": 77,
   "metadata": {},
   "outputs": [
    {
     "data": {
      "text/plain": [
       "(21,)"
      ]
     },
     "execution_count": 77,
     "metadata": {},
     "output_type": "execute_result"
    }
   ],
   "source": [
    "y_train.shape"
   ]
  },
  {
   "cell_type": "code",
   "execution_count": 78,
   "metadata": {},
   "outputs": [],
   "source": [
    "from sklearn.tree import DecisionTreeClassifier"
   ]
  },
  {
   "cell_type": "code",
   "execution_count": 80,
   "metadata": {},
   "outputs": [
    {
     "data": {
      "text/plain": [
       "DecisionTreeClassifier(max_depth=5)"
      ]
     },
     "execution_count": 80,
     "metadata": {},
     "output_type": "execute_result"
    }
   ],
   "source": [
    "tree_clf = DecisionTreeClassifier(max_depth=5) \n",
    "tree_clf.fit(X_train, y_train)"
   ]
  },
  {
   "cell_type": "code",
   "execution_count": 84,
   "metadata": {},
   "outputs": [],
   "source": [
    "y_hat=tree_clf.predict(X_test)"
   ]
  },
  {
   "cell_type": "code",
   "execution_count": 85,
   "metadata": {},
   "outputs": [
    {
     "data": {
      "text/plain": [
       "array([5, 1, 3, 4, 1, 5, 3, 1, 1, 4, 3])"
      ]
     },
     "execution_count": 85,
     "metadata": {},
     "output_type": "execute_result"
    }
   ],
   "source": [
    "y_hat"
   ]
  },
  {
   "cell_type": "code",
   "execution_count": 86,
   "metadata": {},
   "outputs": [
    {
     "data": {
      "text/plain": [
       "array([3, 1, 3, 5, 1, 5, 3, 1, 3, 3, 3])"
      ]
     },
     "execution_count": 86,
     "metadata": {},
     "output_type": "execute_result"
    }
   ],
   "source": [
    "y_test"
   ]
  },
  {
   "cell_type": "code",
   "execution_count": 87,
   "metadata": {},
   "outputs": [
    {
     "data": {
      "text/plain": [
       "array([ 2,  0,  0, -1,  0,  0,  0,  0, -2,  1,  0])"
      ]
     },
     "execution_count": 87,
     "metadata": {},
     "output_type": "execute_result"
    }
   ],
   "source": [
    "y_hat-y_test"
   ]
  },
  {
   "cell_type": "code",
   "execution_count": 89,
   "metadata": {},
   "outputs": [
    {
     "data": {
      "text/plain": [
       "0.6363636363636364"
      ]
     },
     "execution_count": 89,
     "metadata": {},
     "output_type": "execute_result"
    }
   ],
   "source": [
    "7/11"
   ]
  },
  {
   "cell_type": "code",
   "execution_count": 98,
   "metadata": {},
   "outputs": [
    {
     "data": {
      "text/plain": [
       "'digraph Tree {\\nnode [shape=box, style=\"filled, rounded\", color=\"black\", fontname=helvetica] ;\\nedge [fontname=helvetica] ;\\n0 [label=\"X[24] <= 0.284\\\\ngini = 0.712\\\\nsamples = 21\\\\nvalue = [2, 1, 5, 4, 9]\", fillcolor=\"#f8ceef\"] ;\\n1 [label=\"X[33] <= 0.623\\\\ngini = 0.245\\\\nsamples = 7\\\\nvalue = [0, 1, 0, 0, 6]\", fillcolor=\"#e95acb\"] ;\\n0 -> 1 [labeldistance=2.5, labelangle=45, headlabel=\"True\"] ;\\n2 [label=\"gini = 0.0\\\\nsamples = 1\\\\nvalue = [0, 1, 0, 0, 0]\", fillcolor=\"#7be539\"] ;\\n1 -> 2 ;\\n3 [label=\"gini = 0.0\\\\nsamples = 6\\\\nvalue = [0, 0, 0, 0, 6]\", fillcolor=\"#e539c0\"] ;\\n1 -> 3 ;\\n4 [label=\"X[23] <= 0.245\\\\ngini = 0.724\\\\nsamples = 14\\\\nvalue = [2, 0, 5, 4, 3]\", fillcolor=\"#ebfcf9\"] ;\\n0 -> 4 [labeldistance=2.5, labelangle=-45, headlabel=\"False\"] ;\\n5 [label=\"gini = 0.0\\\\nsamples = 4\\\\nvalue = [0, 0, 4, 0, 0]\", fillcolor=\"#39e5c5\"] ;\\n4 -> 5 ;\\n6 [label=\"X[14] <= 0.524\\\\ngini = 0.7\\\\nsamples = 10\\\\nvalue = [2, 0, 1, 4, 3]\", fillcolor=\"#e3e3fb\"] ;\\n4 -> 6 ;\\n7 [label=\"gini = 0.0\\\\nsamples = 2\\\\nvalue = [2, 0, 0, 0, 0]\", fillcolor=\"#e58139\"] ;\\n6 -> 7 ;\\n8 [label=\"X[49] <= 0.948\\\\ngini = 0.594\\\\nsamples = 8\\\\nvalue = [0, 0, 1, 4, 3]\", fillcolor=\"#d8d7fa\"] ;\\n6 -> 8 ;\\n9 [label=\"X[38] <= 0.705\\\\ngini = 0.56\\\\nsamples = 5\\\\nvalue = [0, 0, 1, 1, 3]\", fillcolor=\"#f29ce0\"] ;\\n8 -> 9 ;\\n10 [label=\"gini = 0.5\\\\nsamples = 2\\\\nvalue = [0, 0, 1, 1, 0]\", fillcolor=\"#ffffff\"] ;\\n9 -> 10 ;\\n11 [label=\"gini = 0.0\\\\nsamples = 3\\\\nvalue = [0, 0, 0, 0, 3]\", fillcolor=\"#e539c0\"] ;\\n9 -> 11 ;\\n12 [label=\"gini = 0.0\\\\nsamples = 3\\\\nvalue = [0, 0, 0, 3, 0]\", fillcolor=\"#3c39e5\"] ;\\n8 -> 12 ;\\n}'"
      ]
     },
     "execution_count": 98,
     "metadata": {},
     "output_type": "execute_result"
    }
   ],
   "source": [
    "from sklearn.tree import export_graphviz\n",
    "export_graphviz(tree_clf, rounded=True,filled=True)\n",
    "    \n"
   ]
  },
  {
   "cell_type": "code",
   "execution_count": 102,
   "metadata": {},
   "outputs": [
    {
     "data": {
      "text/plain": [
       "0.6363636363636364"
      ]
     },
     "execution_count": 102,
     "metadata": {},
     "output_type": "execute_result"
    }
   ],
   "source": [
    "tree_clf.score(X_test,y_test)"
   ]
  },
  {
   "cell_type": "code",
   "execution_count": 103,
   "metadata": {},
   "outputs": [],
   "source": [
    "from sklearn.metrics import confusion_matrix"
   ]
  },
  {
   "cell_type": "code",
   "execution_count": 104,
   "metadata": {},
   "outputs": [
    {
     "data": {
      "text/plain": [
       "array([[3, 0, 0, 0],\n",
       "       [1, 3, 1, 1],\n",
       "       [0, 0, 0, 0],\n",
       "       [0, 0, 1, 1]])"
      ]
     },
     "execution_count": 104,
     "metadata": {},
     "output_type": "execute_result"
    }
   ],
   "source": [
    "confusion_matrix(y_test, y_hat)"
   ]
  },
  {
   "cell_type": "code",
   "execution_count": 106,
   "metadata": {},
   "outputs": [],
   "source": [
    "feat_imp=tree_clf.feature_importances_"
   ]
  },
  {
   "cell_type": "code",
   "execution_count": 108,
   "metadata": {},
   "outputs": [
    {
     "data": {
      "text/plain": [
       "(array([14, 23, 24, 33, 38, 49]),)"
      ]
     },
     "execution_count": 108,
     "metadata": {},
     "output_type": "execute_result"
    }
   ],
   "source": [
    "np.nonzero(feat_imp)"
   ]
  },
  {
   "cell_type": "code",
   "execution_count": 109,
   "metadata": {},
   "outputs": [
    {
     "data": {
      "text/plain": [
       "array(['images14', 'images34', 'images6', 'images7', 'IMG_2267.jpeg',\n",
       "       'IMG_2268.jpeg', 'IMG_2270.jpeg', 'IMG_2272.jpeg', 'IMG_2275.jpeg',\n",
       "       'IMG_2280.jpeg', 'IMG_2288.jpeg', 'IMG_2291.jpeg', 'IMG_2299.jpeg',\n",
       "       'IMG_2304.jpeg', 'IMG_2307.jpeg', 'IMG_2316.jpeg', 'IMG_2318.jpeg',\n",
       "       'IMG_2320.jpeg', 'IMG_2322.jpeg', 'IMG_3001.png', 'IMG_3002.png',\n",
       "       'IMG_3003.png', 'IMG_3004.png', 'IMG_3005.png', 'IMG_3006.png',\n",
       "       'IMG_3007.png', 'IMG_3008.png', 'IMG_3012.png', 'IMG_3015.png',\n",
       "       'IMG_3016.png', 'index_4', 'index_5'], dtype=object)"
      ]
     },
     "execution_count": 109,
     "metadata": {},
     "output_type": "execute_result"
    }
   ],
   "source": [
    "name"
   ]
  },
  {
   "cell_type": "code",
   "execution_count": 2,
   "metadata": {},
   "outputs": [
    {
     "ename": "NameError",
     "evalue": "name 'features' is not defined",
     "output_type": "error",
     "traceback": [
      "\u001b[0;31m---------------------------------------------------------------------------\u001b[0m",
      "\u001b[0;31mNameError\u001b[0m                                 Traceback (most recent call last)",
      "\u001b[0;32m<ipython-input-2-224628ecf868>\u001b[0m in \u001b[0;36m<module>\u001b[0;34m\u001b[0m\n\u001b[0;32m----> 1\u001b[0;31m \u001b[0mfeatures\u001b[0m\u001b[0;34m\u001b[0m\u001b[0;34m\u001b[0m\u001b[0m\n\u001b[0m",
      "\u001b[0;31mNameError\u001b[0m: name 'features' is not defined"
     ]
    }
   ],
   "source": [
    "features"
   ]
  },
  {
   "cell_type": "code",
   "execution_count": null,
   "metadata": {},
   "outputs": [],
   "source": []
  }
 ],
 "metadata": {
  "kernelspec": {
   "display_name": "Python 3",
   "language": "python",
   "name": "python3"
  },
  "language_info": {
   "codemirror_mode": {
    "name": "ipython",
    "version": 3
   },
   "file_extension": ".py",
   "mimetype": "text/x-python",
   "name": "python",
   "nbconvert_exporter": "python",
   "pygments_lexer": "ipython3",
   "version": "3.7.7"
  }
 },
 "nbformat": 4,
 "nbformat_minor": 4
}
