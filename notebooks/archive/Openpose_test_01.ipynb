{
 "cells": [
  {
   "cell_type": "code",
   "execution_count": 1,
   "metadata": {},
   "outputs": [],
   "source": [
    "import sys\n",
    "import cv2\n",
    "import os\n",
    "from sys import platform\n",
    "import argparse\n",
    "import time\n",
    "import numpy as np\n",
    "import matplotlib.pyplot as plt\n",
    "import pyopenpose as op"
   ]
  },
  {
   "cell_type": "code",
   "execution_count": 2,
   "metadata": {},
   "outputs": [],
   "source": [
    "# Custom Params (refer to include/openpose/flags.hpp for more parameters)\n",
    "params = dict()\n",
    "params[\"model_folder\"] = \"/Users/ubuntu/openpose/models\""
   ]
  },
  {
   "cell_type": "code",
   "execution_count": null,
   "metadata": {},
   "outputs": [],
   "source": [
    "# Starting OpenPose\n",
    "opWrapper = op.WrapperPython()\n",
    "opWrapper.configure(params)\n",
    "opWrapper.start()\n",
    "\n",
    "\n",
    "\n",
    "input_image_path=\"/Users/gwattal/squatsmart/frames_from_movies/MOV_0005_image.jpg\" #path to image\n",
    "output_image_path=\"/Users/gwattal/squatsmart/openpose/output_images2/\"#path to rendered output folder\n",
    "output_keypoints_path=\"/Users/gwattal/squatsmart/openpose/output_keypoints2/\" #path to keypoints folder\n",
    "\n",
    "# Read frames on directory\n",
    "#imagePaths = op.get_images_on_directory(input_image_path)\n",
    "    #\"/Users/gwattal/squatsmart/openpose/examples/media\")\n",
    "start = time.time()\n",
    "datum = op.Datum()\n",
    "imageToProcess = cv2.imread(imagePath_path)\n",
    "datum.cvInputData = imageToProcess\n",
    "opWrapper.emplaceAndPop([datum])\n",
    "##Save the rendered output file\n",
    "cv2.imwrite(output_image_path+\"output_image_annotated.jpg\",datum.cvOutputData)\n",
    "#Save the Keypoints\n",
    "np.savetxt(output_keypoints_path+\"output_image_keypoints.txt\",datum.poseKeypoints[0]) \n",
    "#print(\"Body keypoints: \\n\" + str(datum.poseKeypoints))\n",
    "print(\"Done with \" + image_name)\n",
    "opWrapper.stop()\n",
    "end = time.time()\n",
    "print(end - start)"
   ]
  }
 ],
 "metadata": {
  "kernelspec": {
   "display_name": "Python 3",
   "language": "python",
   "name": "python3"
  },
  "language_info": {
   "codemirror_mode": {
    "name": "ipython",
    "version": 3
   },
   "file_extension": ".py",
   "mimetype": "text/x-python",
   "name": "python",
   "nbconvert_exporter": "python",
   "pygments_lexer": "ipython3",
   "version": "3.7.7"
  }
 },
 "nbformat": 4,
 "nbformat_minor": 4
}
