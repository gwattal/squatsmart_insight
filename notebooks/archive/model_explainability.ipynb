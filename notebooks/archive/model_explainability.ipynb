{
 "cells": [
  {
   "cell_type": "code",
   "execution_count": 1,
   "metadata": {},
   "outputs": [],
   "source": [
    "import numpy as np\n",
    "import matplotlib.pyplot as plt\n",
    "import pandas as pd\n",
    "import os"
   ]
  },
  {
   "cell_type": "code",
   "execution_count": 2,
   "metadata": {},
   "outputs": [
    {
     "name": "stderr",
     "output_type": "stream",
     "text": [
      "/home/ubuntu/.local/share/virtualenvs/squatsmart-USICYa74/lib/python3.6/site-packages/ipykernel_launcher.py:5: RuntimeWarning: divide by zero encountered in true_divide\n",
      "  \"\"\"\n"
     ]
    },
    {
     "data": {
      "text/plain": [
       "(1277, 51)"
      ]
     },
     "execution_count": 2,
     "metadata": {},
     "output_type": "execute_result"
    }
   ],
   "source": [
    "x_test=np.loadtxt(\"/home/ubuntu/squatsmart_insight/train_test_set/x_features_test.txt\")\n",
    "xs_test = x_test.shape\n",
    "x_new_test = np.zeros((xs_test[0], xs_test[1]+1))\n",
    "x_new_test[:, :-1] = x_test\n",
    "x_new_test[:,-1]=((x_test[:,14]-x_test[:,11])/(x_test[:,5]-x_test[:,2]))\n",
    "x_new_test[np.isinf(x_new_test)]=0.0\n",
    "x_new_test.shape"
   ]
  },
  {
   "cell_type": "code",
   "execution_count": 3,
   "metadata": {},
   "outputs": [
    {
     "name": "stderr",
     "output_type": "stream",
     "text": [
      "/home/ubuntu/.local/share/virtualenvs/squatsmart-USICYa74/lib/python3.6/site-packages/ipykernel_launcher.py:5: RuntimeWarning: divide by zero encountered in true_divide\n",
      "  \"\"\"\n"
     ]
    },
    {
     "data": {
      "text/plain": [
       "(2174, 51)"
      ]
     },
     "execution_count": 3,
     "metadata": {},
     "output_type": "execute_result"
    }
   ],
   "source": [
    "x_train=np.loadtxt(\"/home/ubuntu/squatsmart_insight/train_test_set/x_features_train.txt\")\n",
    "xs_train = x_train.shape\n",
    "x_new_train = np.zeros((xs_train[0], xs_train[1]+1))\n",
    "x_new_train[:, :-1] = x_train\n",
    "x_new_train[:,-1]=((x_train[:,14]-x_train[:,11])/(x_train[:,5]-x_train[:,2]))\n",
    "x_new_train[np.isinf(x_new_train)]=0.0\n",
    "x_new_train.shape"
   ]
  },
  {
   "cell_type": "code",
   "execution_count": 4,
   "metadata": {},
   "outputs": [],
   "source": [
    "with open(\"/home/ubuntu/squatsmart_insight/train_test_set/y_labels_test.txt\", \"r\") as fp:\n",
    "    y_test = [x[:-1] for x in fp.readlines()]\n",
    "with open(\"/home/ubuntu/squatsmart_insight/train_test_set/y_labels_train.txt\", \"r\") as fp:\n",
    "    y_train = [x[:-1] for x in fp.readlines()]"
   ]
  },
  {
   "cell_type": "code",
   "execution_count": 5,
   "metadata": {},
   "outputs": [
    {
     "name": "stderr",
     "output_type": "stream",
     "text": [
      "/home/ubuntu/.local/share/virtualenvs/squatsmart-USICYa74/lib/python3.6/site-packages/sklearn/linear_model/_logistic.py:764: ConvergenceWarning: lbfgs failed to converge (status=1):\n",
      "STOP: TOTAL NO. of ITERATIONS REACHED LIMIT.\n",
      "\n",
      "Increase the number of iterations (max_iter) or scale the data as shown in:\n",
      "    https://scikit-learn.org/stable/modules/preprocessing.html\n",
      "Please also refer to the documentation for alternative solver options:\n",
      "    https://scikit-learn.org/stable/modules/linear_model.html#logistic-regression\n",
      "  extra_warning_msg=_LOGISTIC_SOLVER_CONVERGENCE_MSG)\n",
      "/home/ubuntu/.local/share/virtualenvs/squatsmart-USICYa74/lib/python3.6/site-packages/sklearn/linear_model/_logistic.py:764: ConvergenceWarning: lbfgs failed to converge (status=1):\n",
      "STOP: TOTAL NO. of ITERATIONS REACHED LIMIT.\n",
      "\n",
      "Increase the number of iterations (max_iter) or scale the data as shown in:\n",
      "    https://scikit-learn.org/stable/modules/preprocessing.html\n",
      "Please also refer to the documentation for alternative solver options:\n",
      "    https://scikit-learn.org/stable/modules/linear_model.html#logistic-regression\n",
      "  extra_warning_msg=_LOGISTIC_SOLVER_CONVERGENCE_MSG)\n"
     ]
    },
    {
     "data": {
      "text/plain": [
       "0.6844166014095536"
      ]
     },
     "execution_count": 5,
     "metadata": {},
     "output_type": "execute_result"
    }
   ],
   "source": [
    "from sklearn.linear_model import LogisticRegression\n",
    "model = LogisticRegression(multi_class='ovr')\n",
    "model.fit(x_new_train, y_train)\n",
    "model.score(x_new_test,y_test)"
   ]
  },
  {
   "cell_type": "code",
   "execution_count": 6,
   "metadata": {},
   "outputs": [
    {
     "data": {
      "text/plain": [
       "0.754894283476899"
      ]
     },
     "execution_count": 6,
     "metadata": {},
     "output_type": "execute_result"
    }
   ],
   "source": [
    "from sklearn.neighbors import KNeighborsClassifier\n",
    "neigh = KNeighborsClassifier(n_neighbors=3)\n",
    "neigh.fit(x_new_train, y_train)\n",
    "neigh.score(x_new_test,y_test)\n"
   ]
  },
  {
   "cell_type": "code",
   "execution_count": 7,
   "metadata": {},
   "outputs": [
    {
     "data": {
      "text/plain": [
       "0.8026624902114331"
      ]
     },
     "execution_count": 7,
     "metadata": {},
     "output_type": "execute_result"
    }
   ],
   "source": [
    "from sklearn import svm\n",
    "clf_svc_lin = svm.SVC(kernel='linear')\n",
    "clf_svc_lin.fit(x_new_train, y_train)\n",
    "clf_svc_lin.score(x_new_test,y_test)"
   ]
  },
  {
   "cell_type": "code",
   "execution_count": 8,
   "metadata": {},
   "outputs": [
    {
     "data": {
      "text/plain": [
       "0.8386844166014096"
      ]
     },
     "execution_count": 8,
     "metadata": {},
     "output_type": "execute_result"
    }
   ],
   "source": [
    "clf_svc = svm.SVC()\n",
    "clf_svc.fit(x_new_train, y_train)\n",
    "clf_svc.score(x_new_test,y_test)"
   ]
  },
  {
   "cell_type": "code",
   "execution_count": 9,
   "metadata": {},
   "outputs": [
    {
     "data": {
      "text/plain": [
       "array([0.8344564 , 2.11475509, 1.29100501, 0.03507181, 7.81698217,\n",
       "       1.82965717, 1.91788089, 3.4010007 , 0.84214297, 2.02775771,\n",
       "       1.71197726, 1.58828951, 0.68548384, 0.59481527, 1.30545927,\n",
       "       0.87128324, 1.13340578, 0.65464966, 0.58921878, 0.64247142,\n",
       "       0.93273441, 1.14422358, 1.51387652, 1.16959243, 2.35994503,\n",
       "       0.40230412, 1.31749897, 1.92152497, 0.12762986, 5.01766694,\n",
       "       0.721298  , 1.55187497, 1.158885  , 0.20751929, 0.02435409,\n",
       "       3.45800482, 0.12863131, 0.04052453, 4.28388768, 0.48092261,\n",
       "       0.96695647, 1.00969239, 1.45657569, 1.8865931 , 1.33748337,\n",
       "       1.20727625, 0.06815697, 0.51306774, 0.33718833, 0.55814019,\n",
       "       3.20447344])"
      ]
     },
     "execution_count": 9,
     "metadata": {},
     "output_type": "execute_result"
    }
   ],
   "source": [
    "np.absolute(clf_svc_lin.coef_[0])"
   ]
  },
  {
   "cell_type": "code",
   "execution_count": 10,
   "metadata": {},
   "outputs": [
    {
     "data": {
      "text/plain": [
       "array([ 0.8344564 , -2.11475509, -1.29100501,  0.03507181, -7.81698217,\n",
       "       -1.82965717, -1.91788089,  3.4010007 , -0.84214297, -2.02775771,\n",
       "        1.71197726,  1.58828951,  0.68548384, -0.59481527,  1.30545927,\n",
       "        0.87128324,  1.13340578,  0.65464966,  0.58921878,  0.64247142,\n",
       "        0.93273441,  1.14422358,  1.51387652,  1.16959243,  2.35994503,\n",
       "       -0.40230412,  1.31749897,  1.92152497,  0.12762986,  5.01766694,\n",
       "        0.721298  , -1.55187497,  1.158885  , -0.20751929,  0.02435409,\n",
       "        3.45800482,  0.12863131, -0.04052453,  4.28388768,  0.48092261,\n",
       "       -0.96695647, -1.00969239, -1.45657569, -1.8865931 ,  1.33748337,\n",
       "        1.20727625, -0.06815697,  0.51306774,  0.33718833, -0.55814019,\n",
       "       -3.20447344])"
      ]
     },
     "execution_count": 10,
     "metadata": {},
     "output_type": "execute_result"
    }
   ],
   "source": [
    "clf_svc_lin.coef_[0]"
   ]
  },
  {
   "cell_type": "code",
   "execution_count": 11,
   "metadata": {},
   "outputs": [
    {
     "data": {
      "text/plain": [
       "<matplotlib.axes._subplots.AxesSubplot at 0x7efe3aad5630>"
      ]
     },
     "execution_count": 11,
     "metadata": {},
     "output_type": "execute_result"
    },
    {
     "data": {
      "image/png": "[encoded data removed]",
      "text/plain": [
       "<Figure size 432x288 with 1 Axes>"
      ]
     },
     "metadata": {
      "needs_background": "light"
     },
     "output_type": "display_data"
    }
   ],
   "source": [
    "pd.Series(abs(clf_svc_lin.coef_[0]), index=range(51)).nlargest(10).plot(kind='barh')"
   ]
  },
  {
   "cell_type": "code",
   "execution_count": 12,
   "metadata": {},
   "outputs": [
    {
     "data": {
      "text/plain": [
       "13"
      ]
     },
     "execution_count": 12,
     "metadata": {},
     "output_type": "execute_result"
    }
   ],
   "source": [
    "38-25"
   ]
  },
  {
   "cell_type": "code",
   "execution_count": 13,
   "metadata": {},
   "outputs": [
    {
     "data": {
      "text/plain": [
       "(1277, 35)"
      ]
     },
     "execution_count": 13,
     "metadata": {},
     "output_type": "execute_result"
    }
   ],
   "source": [
    "#drop unnecessary keypoints\n",
    "# Delete column at index 2 & 3\n",
    "x_new_train2 = np.delete(x_new_train, [3,4,6,7,15,16,17,18,28,29,31,32,40,41,42,43], axis=1)\n",
    "x_new_test2  = np.delete(x_new_test,  [3,4,6,7,15,16,17,18,28,29,31,32,40,41,42,43], axis=1)\n",
    "x_new_test2.shape"
   ]
  },
  {
   "cell_type": "code",
   "execution_count": 14,
   "metadata": {},
   "outputs": [
    {
     "name": "stdout",
     "output_type": "stream",
     "text": [
      "0.7361002349256069\n"
     ]
    },
    {
     "data": {
      "text/plain": [
       "<matplotlib.axes._subplots.AxesSubplot at 0x7efe3a380128>"
      ]
     },
     "execution_count": 14,
     "metadata": {},
     "output_type": "execute_result"
    },
    {
     "data": {
      "image/png": "[encoded data removed]",
      "text/plain": [
       "<Figure size 432x288 with 1 Axes>"
      ]
     },
     "metadata": {
      "needs_background": "light"
     },
     "output_type": "display_data"
    }
   ],
   "source": [
    "clf_svc_lin = svm.SVC(kernel='linear')\n",
    "clf_svc_lin.fit(x_new_train2, y_train)\n",
    "print(clf_svc_lin.score(x_new_test2,y_test))\n",
    "pd.Series(abs(clf_svc_lin.coef_[0]), index=range(35)).nlargest(10).plot(kind='barh')"
   ]
  },
  {
   "cell_type": "code",
   "execution_count": 15,
   "metadata": {},
   "outputs": [
    {
     "data": {
      "text/plain": [
       "array([0.43574922, 0.42334031, 0.33144306, 0.26394249, 0.21496772,\n",
       "       0.50925035, 0.58601116, 0.62900171, 0.40513946, 0.34377293,\n",
       "       0.27629846, 0.21187672, 0.47244396, 0.4970554 , 0.50007675,\n",
       "       0.411219  , 0.45419455, 0.37749205, 0.47554335, 0.56751556,\n",
       "       0.56763705, 0.48164697, 0.19346316, 0.17814857, 0.2149423 ,\n",
       "       0.19962715, 0.26091837, 0.25793882, 0.37123893, 0.25488288,\n",
       "       0.26096587, 0.37435222, 0.24869915, 0.57369136, 0.56761947,\n",
       "       0.79135402, 0.95387804, 0.57678474, 0.78225277, 0.94163828,\n",
       "       0.17803874, 0.17194087, 0.16895802, 0.15671084, 0.98768092,\n",
       "       0.97543029, 0.95704171, 1.        , 0.99076333, 0.96307777,\n",
       "       1.6208561 ])"
      ]
     },
     "execution_count": 15,
     "metadata": {},
     "output_type": "execute_result"
    }
   ],
   "source": [
    "x_new_test[0]"
   ]
  },
  {
   "cell_type": "code",
   "execution_count": 16,
   "metadata": {},
   "outputs": [],
   "source": [
    "indices=[34,26,23,1,5,16,19,2,17,28]\n",
    "imp_features=[]\n",
    "for i in indices:\n",
    "    \n",
    "    imp_features.append(np.where(x_new_test[0]== x_new_test2[0,i]))"
   ]
  },
  {
   "cell_type": "code",
   "execution_count": 17,
   "metadata": {},
   "outputs": [
    {
     "name": "stdout",
     "output_type": "stream",
     "text": [
      "25\n",
      "13\n",
      "10\n",
      "1\n",
      "9\n",
      "24\n",
      "2\n",
      "2\n",
      "0\n",
      "19\n"
     ]
    }
   ],
   "source": [
    "imp_features=[50,38,35,1,9,24,27,2,25,44]\n",
    "for i in imp_features:\n",
    "    if( i >24):\n",
    "        print(i-25)\n",
    "    else:\n",
    "        print(i)"
   ]
  },
  {
   "cell_type": "code",
   "execution_count": 18,
   "metadata": {},
   "outputs": [
    {
     "data": {
      "text/plain": [
       "0.7361002349256069"
      ]
     },
     "execution_count": 18,
     "metadata": {},
     "output_type": "execute_result"
    }
   ],
   "source": [
    "clf_svc_lin.score(x_new_test2,y_test)"
   ]
  },
  {
   "cell_type": "code",
   "execution_count": 19,
   "metadata": {},
   "outputs": [
    {
     "data": {
      "text/plain": [
       "0.9448022079116836"
      ]
     },
     "execution_count": 19,
     "metadata": {},
     "output_type": "execute_result"
    }
   ],
   "source": [
    "clf_svc_lin.score(x_new_train2,y_train)"
   ]
  },
  {
   "cell_type": "code",
   "execution_count": 20,
   "metadata": {},
   "outputs": [
    {
     "data": {
      "text/plain": [
       "0.8386844166014096"
      ]
     },
     "execution_count": 20,
     "metadata": {},
     "output_type": "execute_result"
    }
   ],
   "source": [
    "clf_svc.score(x_new_test,y_test)"
   ]
  },
  {
   "cell_type": "code",
   "execution_count": 21,
   "metadata": {},
   "outputs": [
    {
     "data": {
      "text/plain": [
       "0.9609015639374425"
      ]
     },
     "execution_count": 21,
     "metadata": {},
     "output_type": "execute_result"
    }
   ],
   "source": [
    "clf_svc.score(x_new_train,y_train)"
   ]
  },
  {
   "cell_type": "code",
   "execution_count": 22,
   "metadata": {},
   "outputs": [
    {
     "data": {
      "text/plain": [
       "0.6844166014095536"
      ]
     },
     "execution_count": 22,
     "metadata": {},
     "output_type": "execute_result"
    }
   ],
   "source": [
    "#Logistic regression \n",
    "model.score(x_new_test,y_test)"
   ]
  },
  {
   "cell_type": "code",
   "execution_count": 23,
   "metadata": {},
   "outputs": [
    {
     "data": {
      "text/plain": [
       "0.9475620975160993"
      ]
     },
     "execution_count": 23,
     "metadata": {},
     "output_type": "execute_result"
    }
   ],
   "source": [
    "model.score(x_new_train,y_train)"
   ]
  },
  {
   "cell_type": "code",
   "execution_count": 24,
   "metadata": {},
   "outputs": [
    {
     "data": {
      "text/plain": [
       "array([1.20995985, 1.46570213, 0.4788968 , 0.12663012, 5.46141984,\n",
       "       2.12314795, 1.6177051 , 2.21040102, 0.80542809, 1.86920107,\n",
       "       2.83445191, 1.48057451, 0.69929157, 2.534712  , 0.15232071,\n",
       "       1.44135668, 1.47050501, 1.28207304, 0.94330704, 1.41481278,\n",
       "       0.87675356, 0.06935683, 1.60277437, 1.24802101, 1.86524956,\n",
       "       1.37917667, 2.28441283, 2.59376853, 0.73128506, 4.62318826,\n",
       "       2.03474994, 0.0591053 , 2.29019523, 0.72052806, 0.86541072,\n",
       "       3.71924895, 0.4899506 , 1.22600378, 5.13799686, 1.62548112,\n",
       "       1.41772443, 1.56451287, 0.61793994, 1.22322728, 1.86224533,\n",
       "       1.75567567, 1.12851631, 0.19024444, 0.06252694, 0.04402861,\n",
       "       4.79723244])"
      ]
     },
     "execution_count": 24,
     "metadata": {},
     "output_type": "execute_result"
    }
   ],
   "source": [
    "np.abs(model.coef_[0])"
   ]
  },
  {
   "cell_type": "code",
   "execution_count": 25,
   "metadata": {},
   "outputs": [
    {
     "data": {
      "text/plain": [
       "array([0.30820321, 3.31753946, 2.64613127, 1.23969464, 1.82855729,\n",
       "       3.14115731, 0.88556476, 2.1341126 , 0.00888841, 1.19008968,\n",
       "       0.80589996, 0.5455731 , 0.69757696, 0.75913688, 1.02000546,\n",
       "       0.94491225, 3.10495697, 2.55030657, 1.98563556, 2.91555205,\n",
       "       1.16793739, 1.16198816, 1.4740268 , 3.67109612, 0.89026994,\n",
       "       1.53565191, 4.68955721, 1.69601275, 2.34420664, 2.1751382 ,\n",
       "       1.26693233, 0.46906877, 0.34652337, 0.23881913, 4.89592871])"
      ]
     },
     "execution_count": 25,
     "metadata": {},
     "output_type": "execute_result"
    }
   ],
   "source": [
    "np.abs(clf_svc_lin.coef_[0])"
   ]
  },
  {
   "cell_type": "code",
   "execution_count": 26,
   "metadata": {},
   "outputs": [
    {
     "data": {
      "text/plain": [
       "0.48472983555207516"
      ]
     },
     "execution_count": 26,
     "metadata": {},
     "output_type": "execute_result"
    }
   ],
   "source": [
    "from sklearn.ensemble import RandomForestClassifier\n",
    "rfor = RandomForestClassifier(max_depth=5, random_state=0,)\n",
    "rfor.fit(x_new_train, y_train)\n",
    "rfor.score(x_new_test,y_test)"
   ]
  },
  {
   "cell_type": "code",
   "execution_count": 27,
   "metadata": {},
   "outputs": [
    {
     "data": {
      "text/plain": [
       "array([0.01242437, 0.01807005, 0.01024434, 0.0174633 , 0.01511412,\n",
       "       0.02601775, 0.00687122, 0.00540247, 0.01172225, 0.00625809,\n",
       "       0.00484415, 0.04310963, 0.00379487, 0.00472014, 0.0282723 ,\n",
       "       0.02652441, 0.01815517, 0.01314183, 0.01462227, 0.03869319,\n",
       "       0.02917185, 0.03374025, 0.03372368, 0.02145247, 0.0331541 ,\n",
       "       0.01568389, 0.0056695 , 0.00985064, 0.00256641, 0.05081014,\n",
       "       0.0212277 , 0.00400758, 0.02580266, 0.00496992, 0.00125416,\n",
       "       0.03011555, 0.0099952 , 0.00722504, 0.01942081, 0.00226222,\n",
       "       0.03966716, 0.04544717, 0.020895  , 0.02356273, 0.00047561,\n",
       "       0.00859143, 0.00541583, 0.00309501, 0.0032373 , 0.00457646,\n",
       "       0.15746658])"
      ]
     },
     "execution_count": 27,
     "metadata": {},
     "output_type": "execute_result"
    }
   ],
   "source": [
    "rfor.feature_importances_"
   ]
  },
  {
   "cell_type": "code",
   "execution_count": 28,
   "metadata": {},
   "outputs": [
    {
     "data": {
      "text/plain": [
       "100"
      ]
     },
     "execution_count": 28,
     "metadata": {},
     "output_type": "execute_result"
    }
   ],
   "source": [
    "rfor.n_estimators"
   ]
  },
  {
   "cell_type": "code",
   "execution_count": 29,
   "metadata": {},
   "outputs": [
    {
     "data": {
      "text/plain": [
       "3.0991172234518545"
      ]
     },
     "execution_count": 29,
     "metadata": {},
     "output_type": "execute_result"
    }
   ],
   "source": [
    "0.15746658/0.05081014"
   ]
  },
  {
   "cell_type": "code",
   "execution_count": 30,
   "metadata": {},
   "outputs": [],
   "source": [
    "from sklearn.metrics import roc_auc_score"
   ]
  },
  {
   "cell_type": "code",
   "execution_count": 31,
   "metadata": {},
   "outputs": [
    {
     "data": {
      "text/plain": [
       "array(['wide', 'normal', 'normal', ..., 'narrow', 'normal', 'normal'],\n",
       "      dtype='<U6')"
      ]
     },
     "execution_count": 31,
     "metadata": {},
     "output_type": "execute_result"
    }
   ],
   "source": [
    "clf_svc.predict(x_n)"
   ]
  },
  {
   "cell_type": "code",
   "execution_count": null,
   "metadata": {},
   "outputs": [],
   "source": []
  }
 ],
 "metadata": {
  "kernelspec": {
   "display_name": "Python 3",
   "language": "python",
   "name": "python3"
  },
  "language_info": {
   "codemirror_mode": {
    "name": "ipython",
    "version": 3
   },
   "file_extension": ".py",
   "mimetype": "text/x-python",
   "name": "python",
   "nbconvert_exporter": "python",
   "pygments_lexer": "ipython3",
   "version": "3.6.9"
  }
 },
 "nbformat": 4,
 "nbformat_minor": 4
}
