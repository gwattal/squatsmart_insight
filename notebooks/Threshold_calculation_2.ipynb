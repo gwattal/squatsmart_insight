{
 "cells": [
  {
   "cell_type": "code",
   "execution_count": 8,
   "metadata": {},
   "outputs": [],
   "source": [
    "import numpy as np\n",
    "import matplotlib.pyplot as plt\n",
    "import pandas as pd\n",
    "import seaborn as sns"
   ]
  },
  {
   "cell_type": "code",
   "execution_count": 40,
   "metadata": {},
   "outputs": [],
   "source": [
    "df=pd.read_csv(\"stance_width_data5.csv\")"
   ]
  },
  {
   "cell_type": "markdown",
   "metadata": {},
   "source": [
    "narrow|0.96|slighlty narrow|1.08|ok|1.30|slighlty wide|1.4|wide"
   ]
  },
  {
   "cell_type": "code",
   "execution_count": 15,
   "metadata": {},
   "outputs": [
    {
     "data": {
      "text/html": [
       "<div>\n",
       "<style scoped>\n",
       "    .dataframe tbody tr th:only-of-type {\n",
       "        vertical-align: middle;\n",
       "    }\n",
       "\n",
       "    .dataframe tbody tr th {\n",
       "        vertical-align: top;\n",
       "    }\n",
       "\n",
       "    .dataframe thead th {\n",
       "        text-align: right;\n",
       "    }\n",
       "</style>\n",
       "<table border=\"1\" class=\"dataframe\">\n",
       "  <thead>\n",
       "    <tr style=\"text-align: right;\">\n",
       "      <th></th>\n",
       "      <th>Unnamed: 0</th>\n",
       "      <th>name</th>\n",
       "      <th>stance_heel</th>\n",
       "      <th>confidence_min_heel</th>\n",
       "      <th>stance_ankle</th>\n",
       "      <th>confidence_min_ankle</th>\n",
       "      <th>stance_wgt_avg</th>\n",
       "      <th>confidence_min_wgt_avg</th>\n",
       "      <th>label_1</th>\n",
       "    </tr>\n",
       "  </thead>\n",
       "  <tbody>\n",
       "    <tr>\n",
       "      <th>0</th>\n",
       "      <td>1</td>\n",
       "      <td>image22.png</td>\n",
       "      <td>1.088060</td>\n",
       "      <td>0.482316</td>\n",
       "      <td>1.367805</td>\n",
       "      <td>0.705770</td>\n",
       "      <td>1.252748</td>\n",
       "      <td>0.588181</td>\n",
       "      <td>slightly narrow</td>\n",
       "    </tr>\n",
       "    <tr>\n",
       "      <th>1</th>\n",
       "      <td>11</td>\n",
       "      <td>image23.png</td>\n",
       "      <td>1.091162</td>\n",
       "      <td>0.368627</td>\n",
       "      <td>1.293202</td>\n",
       "      <td>0.586389</td>\n",
       "      <td>1.211121</td>\n",
       "      <td>0.452681</td>\n",
       "      <td>ok</td>\n",
       "    </tr>\n",
       "    <tr>\n",
       "      <th>2</th>\n",
       "      <td>8</td>\n",
       "      <td>images10</td>\n",
       "      <td>1.162537</td>\n",
       "      <td>0.575121</td>\n",
       "      <td>1.311203</td>\n",
       "      <td>0.678523</td>\n",
       "      <td>1.245814</td>\n",
       "      <td>0.653320</td>\n",
       "      <td>ok</td>\n",
       "    </tr>\n",
       "    <tr>\n",
       "      <th>3</th>\n",
       "      <td>4</td>\n",
       "      <td>images14</td>\n",
       "      <td>1.216810</td>\n",
       "      <td>0.658765</td>\n",
       "      <td>1.405309</td>\n",
       "      <td>0.766530</td>\n",
       "      <td>1.317080</td>\n",
       "      <td>0.716048</td>\n",
       "      <td>ok</td>\n",
       "    </tr>\n",
       "    <tr>\n",
       "      <th>4</th>\n",
       "      <td>59</td>\n",
       "      <td>images15</td>\n",
       "      <td>1.027805</td>\n",
       "      <td>0.556757</td>\n",
       "      <td>1.227870</td>\n",
       "      <td>0.739173</td>\n",
       "      <td>1.138717</td>\n",
       "      <td>0.643053</td>\n",
       "      <td>ok</td>\n",
       "    </tr>\n",
       "    <tr>\n",
       "      <th>...</th>\n",
       "      <td>...</td>\n",
       "      <td>...</td>\n",
       "      <td>...</td>\n",
       "      <td>...</td>\n",
       "      <td>...</td>\n",
       "      <td>...</td>\n",
       "      <td>...</td>\n",
       "      <td>...</td>\n",
       "      <td>...</td>\n",
       "    </tr>\n",
       "    <tr>\n",
       "      <th>56</th>\n",
       "      <td>60</td>\n",
       "      <td>index_4</td>\n",
       "      <td>1.176942</td>\n",
       "      <td>0.707051</td>\n",
       "      <td>1.370889</td>\n",
       "      <td>0.794067</td>\n",
       "      <td>1.277595</td>\n",
       "      <td>0.751302</td>\n",
       "      <td>ok</td>\n",
       "    </tr>\n",
       "    <tr>\n",
       "      <th>57</th>\n",
       "      <td>3</td>\n",
       "      <td>index_5</td>\n",
       "      <td>1.168408</td>\n",
       "      <td>0.681816</td>\n",
       "      <td>1.376687</td>\n",
       "      <td>0.730453</td>\n",
       "      <td>1.276671</td>\n",
       "      <td>0.705297</td>\n",
       "      <td>slightly wide</td>\n",
       "    </tr>\n",
       "    <tr>\n",
       "      <th>58</th>\n",
       "      <td>7</td>\n",
       "      <td>index31</td>\n",
       "      <td>0.658245</td>\n",
       "      <td>0.428329</td>\n",
       "      <td>0.849857</td>\n",
       "      <td>0.622354</td>\n",
       "      <td>0.770175</td>\n",
       "      <td>0.517531</td>\n",
       "      <td>narrow</td>\n",
       "    </tr>\n",
       "    <tr>\n",
       "      <th>59</th>\n",
       "      <td>15</td>\n",
       "      <td>index32</td>\n",
       "      <td>1.544170</td>\n",
       "      <td>0.583366</td>\n",
       "      <td>1.721727</td>\n",
       "      <td>0.693926</td>\n",
       "      <td>1.640780</td>\n",
       "      <td>0.633861</td>\n",
       "      <td>slightly wide</td>\n",
       "    </tr>\n",
       "    <tr>\n",
       "      <th>60</th>\n",
       "      <td>48</td>\n",
       "      <td>index33</td>\n",
       "      <td>1.096472</td>\n",
       "      <td>0.480948</td>\n",
       "      <td>1.281474</td>\n",
       "      <td>0.663570</td>\n",
       "      <td>1.201170</td>\n",
       "      <td>0.557690</td>\n",
       "      <td>ok</td>\n",
       "    </tr>\n",
       "  </tbody>\n",
       "</table>\n",
       "<p>61 rows × 9 columns</p>\n",
       "</div>"
      ],
      "text/plain": [
       "    Unnamed: 0         name  stance_heel  confidence_min_heel  stance_ankle  \\\n",
       "0            1  image22.png     1.088060             0.482316      1.367805   \n",
       "1           11  image23.png     1.091162             0.368627      1.293202   \n",
       "2            8     images10     1.162537             0.575121      1.311203   \n",
       "3            4     images14     1.216810             0.658765      1.405309   \n",
       "4           59     images15     1.027805             0.556757      1.227870   \n",
       "..         ...          ...          ...                  ...           ...   \n",
       "56          60      index_4     1.176942             0.707051      1.370889   \n",
       "57           3      index_5     1.168408             0.681816      1.376687   \n",
       "58           7      index31     0.658245             0.428329      0.849857   \n",
       "59          15      index32     1.544170             0.583366      1.721727   \n",
       "60          48      index33     1.096472             0.480948      1.281474   \n",
       "\n",
       "    confidence_min_ankle  stance_wgt_avg  confidence_min_wgt_avg  \\\n",
       "0               0.705770        1.252748                0.588181   \n",
       "1               0.586389        1.211121                0.452681   \n",
       "2               0.678523        1.245814                0.653320   \n",
       "3               0.766530        1.317080                0.716048   \n",
       "4               0.739173        1.138717                0.643053   \n",
       "..                   ...             ...                     ...   \n",
       "56              0.794067        1.277595                0.751302   \n",
       "57              0.730453        1.276671                0.705297   \n",
       "58              0.622354        0.770175                0.517531   \n",
       "59              0.693926        1.640780                0.633861   \n",
       "60              0.663570        1.201170                0.557690   \n",
       "\n",
       "            label_1  \n",
       "0   slightly narrow  \n",
       "1                ok  \n",
       "2                ok  \n",
       "3                ok  \n",
       "4                ok  \n",
       "..              ...  \n",
       "56               ok  \n",
       "57    slightly wide  \n",
       "58           narrow  \n",
       "59    slightly wide  \n",
       "60               ok  \n",
       "\n",
       "[61 rows x 9 columns]"
      ]
     },
     "execution_count": 15,
     "metadata": {},
     "output_type": "execute_result"
    }
   ],
   "source": [
    "df"
   ]
  },
  {
   "cell_type": "code",
   "execution_count": 18,
   "metadata": {},
   "outputs": [
    {
     "data": {
      "text/plain": [
       "<matplotlib.axes._subplots.AxesSubplot at 0x12eed2b90>"
      ]
     },
     "execution_count": 18,
     "metadata": {},
     "output_type": "execute_result"
    },
    {
     "data": {
      "image/png": "[encoded data removed]",
      "text/plain": [
       "<Figure size 720x360 with 1 Axes>"
      ]
     },
     "metadata": {
      "needs_background": "light"
     },
     "output_type": "display_data"
    }
   ],
   "source": [
    "fig,ax = plt.subplots(figsize=(10,5))\n",
    "sns.scatterplot(x='label_1',y='stance_wgt_avg',data=df,ax=ax)"
   ]
  },
  {
   "cell_type": "code",
   "execution_count": 41,
   "metadata": {},
   "outputs": [],
   "source": [
    "df['label_1']=df.label_1.str.lower()"
   ]
  },
  {
   "cell_type": "code",
   "execution_count": 19,
   "metadata": {},
   "outputs": [
    {
     "data": {
      "text/plain": [
       "<matplotlib.axes._subplots.AxesSubplot at 0x12e878910>"
      ]
     },
     "execution_count": 19,
     "metadata": {},
     "output_type": "execute_result"
    },
    {
     "data": {
      "image/png": "[encoded data removed]",
      "text/plain": [
       "<Figure size 720x360 with 1 Axes>"
      ]
     },
     "metadata": {
      "needs_background": "light"
     },
     "output_type": "display_data"
    }
   ],
   "source": [
    "fig,ax = plt.subplots(figsize=(10,5))\n",
    "sns.violinplot(x='label_1',y='stance_wgt_avg',data=df,ax=ax)"
   ]
  },
  {
   "cell_type": "code",
   "execution_count": 50,
   "metadata": {},
   "outputs": [],
   "source": [
    "df_filt = df.loc[~df.label_1.str.contains(\"not enough info\") ]"
   ]
  },
  {
   "cell_type": "code",
   "execution_count": 29,
   "metadata": {},
   "outputs": [
    {
     "data": {
      "text/plain": [
       "<matplotlib.axes._subplots.AxesSubplot at 0x12d59f890>"
      ]
     },
     "execution_count": 29,
     "metadata": {},
     "output_type": "execute_result"
    },
    {
     "data": {
      "image/png": "[encoded data removed]",
      "text/plain": [
       "<Figure size 720x360 with 1 Axes>"
      ]
     },
     "metadata": {
      "needs_background": "light"
     },
     "output_type": "display_data"
    }
   ],
   "source": [
    "fig,ax = plt.subplots(figsize=(10,5))\n",
    "sns.scatterplot(x='label_1',y='stance_wgt_avg',data=df_filt,ax=ax)"
   ]
  },
  {
   "cell_type": "code",
   "execution_count": 30,
   "metadata": {},
   "outputs": [
    {
     "data": {
      "text/plain": [
       "<matplotlib.axes._subplots.AxesSubplot at 0x12d599290>"
      ]
     },
     "execution_count": 30,
     "metadata": {},
     "output_type": "execute_result"
    },
    {
     "data": {
      "image/png": "[encoded data removed]",
      "text/plain": [
       "<Figure size 720x360 with 1 Axes>"
      ]
     },
     "metadata": {
      "needs_background": "light"
     },
     "output_type": "display_data"
    }
   ],
   "source": [
    "fig,ax = plt.subplots(figsize=(10,5))\n",
    "sns.scatterplot(x='label_1',y='stance_ankle',data=df_filt,ax=ax)"
   ]
  },
  {
   "cell_type": "code",
   "execution_count": 31,
   "metadata": {},
   "outputs": [
    {
     "data": {
      "text/plain": [
       "<matplotlib.axes._subplots.AxesSubplot at 0x12d5f9090>"
      ]
     },
     "execution_count": 31,
     "metadata": {},
     "output_type": "execute_result"
    },
    {
     "data": {
      "image/png": "[encoded data removed]",
      "text/plain": [
       "<Figure size 720x360 with 1 Axes>"
      ]
     },
     "metadata": {
      "needs_background": "light"
     },
     "output_type": "display_data"
    }
   ],
   "source": [
    "fig,ax = plt.subplots(figsize=(10,5))\n",
    "sns.scatterplot(x='label_1',y='stance_heel',data=df_filt,ax=ax)"
   ]
  },
  {
   "cell_type": "code",
   "execution_count": 32,
   "metadata": {},
   "outputs": [],
   "source": [
    "sns.scatterplot?"
   ]
  },
  {
   "cell_type": "code",
   "execution_count": 59,
   "metadata": {},
   "outputs": [],
   "source": [
    "df_filt2 =df_filt.query('confidence_min_wgt_avg > 0.79')"
   ]
  },
  {
   "cell_type": "code",
   "execution_count": 62,
   "metadata": {},
   "outputs": [
    {
     "data": {
      "text/plain": [
       "<matplotlib.axes._subplots.AxesSubplot at 0x132432c90>"
      ]
     },
     "execution_count": 62,
     "metadata": {},
     "output_type": "execute_result"
    },
    {
     "data": {
      "image/png": "[encoded data removed]",
      "text/plain": [
       "<Figure size 720x360 with 1 Axes>"
      ]
     },
     "metadata": {
      "needs_background": "light"
     },
     "output_type": "display_data"
    }
   ],
   "source": [
    "fig,ax = plt.subplots(figsize=(10,5))\n",
    "sns.scatterplot(x='label_1',y='stance_wgt_avg',data=df_filt2.sort_values('label_1') ,\n",
    "                ax=ax, hue='confidence_min_wgt_avg')"
   ]
  },
  {
   "cell_type": "code",
   "execution_count": 35,
   "metadata": {},
   "outputs": [
    {
     "data": {
      "text/plain": [
       "0     slightly 01-narrow\n",
       "1                     ok\n",
       "2                     ok\n",
       "3                     ok\n",
       "4                     ok\n",
       "             ...        \n",
       "56                    ok\n",
       "57         slightly wide\n",
       "58             01-narrow\n",
       "59         slightly wide\n",
       "60                    ok\n",
       "Name: label_1, Length: 61, dtype: object"
      ]
     },
     "execution_count": 35,
     "metadata": {},
     "output_type": "execute_result"
    }
   ],
   "source": [
    "df.label_1.str.replace('narrow','01-narrow')"
   ]
  },
  {
   "cell_type": "code",
   "execution_count": 43,
   "metadata": {},
   "outputs": [],
   "source": [
    "df.loc[df.label_1=='slightly narrow','label_1']='02_slightly_narrow'"
   ]
  },
  {
   "cell_type": "code",
   "execution_count": 44,
   "metadata": {},
   "outputs": [
    {
     "data": {
      "text/html": [
       "<div>\n",
       "<style scoped>\n",
       "    .dataframe tbody tr th:only-of-type {\n",
       "        vertical-align: middle;\n",
       "    }\n",
       "\n",
       "    .dataframe tbody tr th {\n",
       "        vertical-align: top;\n",
       "    }\n",
       "\n",
       "    .dataframe thead th {\n",
       "        text-align: right;\n",
       "    }\n",
       "</style>\n",
       "<table border=\"1\" class=\"dataframe\">\n",
       "  <thead>\n",
       "    <tr style=\"text-align: right;\">\n",
       "      <th></th>\n",
       "      <th>Unnamed: 0</th>\n",
       "      <th>name</th>\n",
       "      <th>stance_heel</th>\n",
       "      <th>confidence_min_heel</th>\n",
       "      <th>stance_ankle</th>\n",
       "      <th>confidence_min_ankle</th>\n",
       "      <th>stance_wgt_avg</th>\n",
       "      <th>confidence_min_wgt_avg</th>\n",
       "      <th>label_1</th>\n",
       "    </tr>\n",
       "  </thead>\n",
       "  <tbody>\n",
       "    <tr>\n",
       "      <th>0</th>\n",
       "      <td>1</td>\n",
       "      <td>image22.png</td>\n",
       "      <td>1.088060</td>\n",
       "      <td>0.482316</td>\n",
       "      <td>1.367805</td>\n",
       "      <td>0.705770</td>\n",
       "      <td>1.252748</td>\n",
       "      <td>0.588181</td>\n",
       "      <td>02_slightly_narrow</td>\n",
       "    </tr>\n",
       "    <tr>\n",
       "      <th>1</th>\n",
       "      <td>11</td>\n",
       "      <td>image23.png</td>\n",
       "      <td>1.091162</td>\n",
       "      <td>0.368627</td>\n",
       "      <td>1.293202</td>\n",
       "      <td>0.586389</td>\n",
       "      <td>1.211121</td>\n",
       "      <td>0.452681</td>\n",
       "      <td>ok</td>\n",
       "    </tr>\n",
       "    <tr>\n",
       "      <th>2</th>\n",
       "      <td>8</td>\n",
       "      <td>images10</td>\n",
       "      <td>1.162537</td>\n",
       "      <td>0.575121</td>\n",
       "      <td>1.311203</td>\n",
       "      <td>0.678523</td>\n",
       "      <td>1.245814</td>\n",
       "      <td>0.653320</td>\n",
       "      <td>ok</td>\n",
       "    </tr>\n",
       "    <tr>\n",
       "      <th>3</th>\n",
       "      <td>4</td>\n",
       "      <td>images14</td>\n",
       "      <td>1.216810</td>\n",
       "      <td>0.658765</td>\n",
       "      <td>1.405309</td>\n",
       "      <td>0.766530</td>\n",
       "      <td>1.317080</td>\n",
       "      <td>0.716048</td>\n",
       "      <td>ok</td>\n",
       "    </tr>\n",
       "    <tr>\n",
       "      <th>4</th>\n",
       "      <td>59</td>\n",
       "      <td>images15</td>\n",
       "      <td>1.027805</td>\n",
       "      <td>0.556757</td>\n",
       "      <td>1.227870</td>\n",
       "      <td>0.739173</td>\n",
       "      <td>1.138717</td>\n",
       "      <td>0.643053</td>\n",
       "      <td>ok</td>\n",
       "    </tr>\n",
       "    <tr>\n",
       "      <th>...</th>\n",
       "      <td>...</td>\n",
       "      <td>...</td>\n",
       "      <td>...</td>\n",
       "      <td>...</td>\n",
       "      <td>...</td>\n",
       "      <td>...</td>\n",
       "      <td>...</td>\n",
       "      <td>...</td>\n",
       "      <td>...</td>\n",
       "    </tr>\n",
       "    <tr>\n",
       "      <th>56</th>\n",
       "      <td>60</td>\n",
       "      <td>index_4</td>\n",
       "      <td>1.176942</td>\n",
       "      <td>0.707051</td>\n",
       "      <td>1.370889</td>\n",
       "      <td>0.794067</td>\n",
       "      <td>1.277595</td>\n",
       "      <td>0.751302</td>\n",
       "      <td>ok</td>\n",
       "    </tr>\n",
       "    <tr>\n",
       "      <th>57</th>\n",
       "      <td>3</td>\n",
       "      <td>index_5</td>\n",
       "      <td>1.168408</td>\n",
       "      <td>0.681816</td>\n",
       "      <td>1.376687</td>\n",
       "      <td>0.730453</td>\n",
       "      <td>1.276671</td>\n",
       "      <td>0.705297</td>\n",
       "      <td>slightly wide</td>\n",
       "    </tr>\n",
       "    <tr>\n",
       "      <th>58</th>\n",
       "      <td>7</td>\n",
       "      <td>index31</td>\n",
       "      <td>0.658245</td>\n",
       "      <td>0.428329</td>\n",
       "      <td>0.849857</td>\n",
       "      <td>0.622354</td>\n",
       "      <td>0.770175</td>\n",
       "      <td>0.517531</td>\n",
       "      <td>narrow</td>\n",
       "    </tr>\n",
       "    <tr>\n",
       "      <th>59</th>\n",
       "      <td>15</td>\n",
       "      <td>index32</td>\n",
       "      <td>1.544170</td>\n",
       "      <td>0.583366</td>\n",
       "      <td>1.721727</td>\n",
       "      <td>0.693926</td>\n",
       "      <td>1.640780</td>\n",
       "      <td>0.633861</td>\n",
       "      <td>slightly wide</td>\n",
       "    </tr>\n",
       "    <tr>\n",
       "      <th>60</th>\n",
       "      <td>48</td>\n",
       "      <td>index33</td>\n",
       "      <td>1.096472</td>\n",
       "      <td>0.480948</td>\n",
       "      <td>1.281474</td>\n",
       "      <td>0.663570</td>\n",
       "      <td>1.201170</td>\n",
       "      <td>0.557690</td>\n",
       "      <td>ok</td>\n",
       "    </tr>\n",
       "  </tbody>\n",
       "</table>\n",
       "<p>61 rows × 9 columns</p>\n",
       "</div>"
      ],
      "text/plain": [
       "    Unnamed: 0         name  stance_heel  confidence_min_heel  stance_ankle  \\\n",
       "0            1  image22.png     1.088060             0.482316      1.367805   \n",
       "1           11  image23.png     1.091162             0.368627      1.293202   \n",
       "2            8     images10     1.162537             0.575121      1.311203   \n",
       "3            4     images14     1.216810             0.658765      1.405309   \n",
       "4           59     images15     1.027805             0.556757      1.227870   \n",
       "..         ...          ...          ...                  ...           ...   \n",
       "56          60      index_4     1.176942             0.707051      1.370889   \n",
       "57           3      index_5     1.168408             0.681816      1.376687   \n",
       "58           7      index31     0.658245             0.428329      0.849857   \n",
       "59          15      index32     1.544170             0.583366      1.721727   \n",
       "60          48      index33     1.096472             0.480948      1.281474   \n",
       "\n",
       "    confidence_min_ankle  stance_wgt_avg  confidence_min_wgt_avg  \\\n",
       "0               0.705770        1.252748                0.588181   \n",
       "1               0.586389        1.211121                0.452681   \n",
       "2               0.678523        1.245814                0.653320   \n",
       "3               0.766530        1.317080                0.716048   \n",
       "4               0.739173        1.138717                0.643053   \n",
       "..                   ...             ...                     ...   \n",
       "56              0.794067        1.277595                0.751302   \n",
       "57              0.730453        1.276671                0.705297   \n",
       "58              0.622354        0.770175                0.517531   \n",
       "59              0.693926        1.640780                0.633861   \n",
       "60              0.663570        1.201170                0.557690   \n",
       "\n",
       "               label_1  \n",
       "0   02_slightly_narrow  \n",
       "1                   ok  \n",
       "2                   ok  \n",
       "3                   ok  \n",
       "4                   ok  \n",
       "..                 ...  \n",
       "56                  ok  \n",
       "57       slightly wide  \n",
       "58              narrow  \n",
       "59       slightly wide  \n",
       "60                  ok  \n",
       "\n",
       "[61 rows x 9 columns]"
      ]
     },
     "execution_count": 44,
     "metadata": {},
     "output_type": "execute_result"
    }
   ],
   "source": [
    "df"
   ]
  },
  {
   "cell_type": "code",
   "execution_count": 45,
   "metadata": {},
   "outputs": [],
   "source": [
    "df.loc[df.label_1=='narrow','label_1']='01_narrow'"
   ]
  },
  {
   "cell_type": "code",
   "execution_count": 46,
   "metadata": {},
   "outputs": [],
   "source": [
    "df.loc[df.label_1=='ok','label_1']='03_ok'"
   ]
  },
  {
   "cell_type": "code",
   "execution_count": 47,
   "metadata": {},
   "outputs": [],
   "source": [
    "df.loc[df.label_1=='slightly wide','label_1']='04_slightly_wide'"
   ]
  },
  {
   "cell_type": "code",
   "execution_count": 48,
   "metadata": {},
   "outputs": [],
   "source": [
    "df.loc[df.label_1=='wide','label_1']='05_wide'"
   ]
  },
  {
   "cell_type": "code",
   "execution_count": 49,
   "metadata": {},
   "outputs": [
    {
     "data": {
      "text/html": [
       "<div>\n",
       "<style scoped>\n",
       "    .dataframe tbody tr th:only-of-type {\n",
       "        vertical-align: middle;\n",
       "    }\n",
       "\n",
       "    .dataframe tbody tr th {\n",
       "        vertical-align: top;\n",
       "    }\n",
       "\n",
       "    .dataframe thead th {\n",
       "        text-align: right;\n",
       "    }\n",
       "</style>\n",
       "<table border=\"1\" class=\"dataframe\">\n",
       "  <thead>\n",
       "    <tr style=\"text-align: right;\">\n",
       "      <th></th>\n",
       "      <th>Unnamed: 0</th>\n",
       "      <th>name</th>\n",
       "      <th>stance_heel</th>\n",
       "      <th>confidence_min_heel</th>\n",
       "      <th>stance_ankle</th>\n",
       "      <th>confidence_min_ankle</th>\n",
       "      <th>stance_wgt_avg</th>\n",
       "      <th>confidence_min_wgt_avg</th>\n",
       "      <th>label_1</th>\n",
       "    </tr>\n",
       "  </thead>\n",
       "  <tbody>\n",
       "    <tr>\n",
       "      <th>0</th>\n",
       "      <td>1</td>\n",
       "      <td>image22.png</td>\n",
       "      <td>1.088060</td>\n",
       "      <td>0.482316</td>\n",
       "      <td>1.367805</td>\n",
       "      <td>0.705770</td>\n",
       "      <td>1.252748</td>\n",
       "      <td>0.588181</td>\n",
       "      <td>02_slightly_narrow</td>\n",
       "    </tr>\n",
       "    <tr>\n",
       "      <th>1</th>\n",
       "      <td>11</td>\n",
       "      <td>image23.png</td>\n",
       "      <td>1.091162</td>\n",
       "      <td>0.368627</td>\n",
       "      <td>1.293202</td>\n",
       "      <td>0.586389</td>\n",
       "      <td>1.211121</td>\n",
       "      <td>0.452681</td>\n",
       "      <td>03_ok</td>\n",
       "    </tr>\n",
       "    <tr>\n",
       "      <th>2</th>\n",
       "      <td>8</td>\n",
       "      <td>images10</td>\n",
       "      <td>1.162537</td>\n",
       "      <td>0.575121</td>\n",
       "      <td>1.311203</td>\n",
       "      <td>0.678523</td>\n",
       "      <td>1.245814</td>\n",
       "      <td>0.653320</td>\n",
       "      <td>03_ok</td>\n",
       "    </tr>\n",
       "    <tr>\n",
       "      <th>3</th>\n",
       "      <td>4</td>\n",
       "      <td>images14</td>\n",
       "      <td>1.216810</td>\n",
       "      <td>0.658765</td>\n",
       "      <td>1.405309</td>\n",
       "      <td>0.766530</td>\n",
       "      <td>1.317080</td>\n",
       "      <td>0.716048</td>\n",
       "      <td>03_ok</td>\n",
       "    </tr>\n",
       "    <tr>\n",
       "      <th>4</th>\n",
       "      <td>59</td>\n",
       "      <td>images15</td>\n",
       "      <td>1.027805</td>\n",
       "      <td>0.556757</td>\n",
       "      <td>1.227870</td>\n",
       "      <td>0.739173</td>\n",
       "      <td>1.138717</td>\n",
       "      <td>0.643053</td>\n",
       "      <td>03_ok</td>\n",
       "    </tr>\n",
       "    <tr>\n",
       "      <th>...</th>\n",
       "      <td>...</td>\n",
       "      <td>...</td>\n",
       "      <td>...</td>\n",
       "      <td>...</td>\n",
       "      <td>...</td>\n",
       "      <td>...</td>\n",
       "      <td>...</td>\n",
       "      <td>...</td>\n",
       "      <td>...</td>\n",
       "    </tr>\n",
       "    <tr>\n",
       "      <th>56</th>\n",
       "      <td>60</td>\n",
       "      <td>index_4</td>\n",
       "      <td>1.176942</td>\n",
       "      <td>0.707051</td>\n",
       "      <td>1.370889</td>\n",
       "      <td>0.794067</td>\n",
       "      <td>1.277595</td>\n",
       "      <td>0.751302</td>\n",
       "      <td>03_ok</td>\n",
       "    </tr>\n",
       "    <tr>\n",
       "      <th>57</th>\n",
       "      <td>3</td>\n",
       "      <td>index_5</td>\n",
       "      <td>1.168408</td>\n",
       "      <td>0.681816</td>\n",
       "      <td>1.376687</td>\n",
       "      <td>0.730453</td>\n",
       "      <td>1.276671</td>\n",
       "      <td>0.705297</td>\n",
       "      <td>04_slightly_wide</td>\n",
       "    </tr>\n",
       "    <tr>\n",
       "      <th>58</th>\n",
       "      <td>7</td>\n",
       "      <td>index31</td>\n",
       "      <td>0.658245</td>\n",
       "      <td>0.428329</td>\n",
       "      <td>0.849857</td>\n",
       "      <td>0.622354</td>\n",
       "      <td>0.770175</td>\n",
       "      <td>0.517531</td>\n",
       "      <td>01_narrow</td>\n",
       "    </tr>\n",
       "    <tr>\n",
       "      <th>59</th>\n",
       "      <td>15</td>\n",
       "      <td>index32</td>\n",
       "      <td>1.544170</td>\n",
       "      <td>0.583366</td>\n",
       "      <td>1.721727</td>\n",
       "      <td>0.693926</td>\n",
       "      <td>1.640780</td>\n",
       "      <td>0.633861</td>\n",
       "      <td>04_slightly_wide</td>\n",
       "    </tr>\n",
       "    <tr>\n",
       "      <th>60</th>\n",
       "      <td>48</td>\n",
       "      <td>index33</td>\n",
       "      <td>1.096472</td>\n",
       "      <td>0.480948</td>\n",
       "      <td>1.281474</td>\n",
       "      <td>0.663570</td>\n",
       "      <td>1.201170</td>\n",
       "      <td>0.557690</td>\n",
       "      <td>03_ok</td>\n",
       "    </tr>\n",
       "  </tbody>\n",
       "</table>\n",
       "<p>61 rows × 9 columns</p>\n",
       "</div>"
      ],
      "text/plain": [
       "    Unnamed: 0         name  stance_heel  confidence_min_heel  stance_ankle  \\\n",
       "0            1  image22.png     1.088060             0.482316      1.367805   \n",
       "1           11  image23.png     1.091162             0.368627      1.293202   \n",
       "2            8     images10     1.162537             0.575121      1.311203   \n",
       "3            4     images14     1.216810             0.658765      1.405309   \n",
       "4           59     images15     1.027805             0.556757      1.227870   \n",
       "..         ...          ...          ...                  ...           ...   \n",
       "56          60      index_4     1.176942             0.707051      1.370889   \n",
       "57           3      index_5     1.168408             0.681816      1.376687   \n",
       "58           7      index31     0.658245             0.428329      0.849857   \n",
       "59          15      index32     1.544170             0.583366      1.721727   \n",
       "60          48      index33     1.096472             0.480948      1.281474   \n",
       "\n",
       "    confidence_min_ankle  stance_wgt_avg  confidence_min_wgt_avg  \\\n",
       "0               0.705770        1.252748                0.588181   \n",
       "1               0.586389        1.211121                0.452681   \n",
       "2               0.678523        1.245814                0.653320   \n",
       "3               0.766530        1.317080                0.716048   \n",
       "4               0.739173        1.138717                0.643053   \n",
       "..                   ...             ...                     ...   \n",
       "56              0.794067        1.277595                0.751302   \n",
       "57              0.730453        1.276671                0.705297   \n",
       "58              0.622354        0.770175                0.517531   \n",
       "59              0.693926        1.640780                0.633861   \n",
       "60              0.663570        1.201170                0.557690   \n",
       "\n",
       "               label_1  \n",
       "0   02_slightly_narrow  \n",
       "1                03_ok  \n",
       "2                03_ok  \n",
       "3                03_ok  \n",
       "4                03_ok  \n",
       "..                 ...  \n",
       "56               03_ok  \n",
       "57    04_slightly_wide  \n",
       "58           01_narrow  \n",
       "59    04_slightly_wide  \n",
       "60               03_ok  \n",
       "\n",
       "[61 rows x 9 columns]"
      ]
     },
     "execution_count": 49,
     "metadata": {},
     "output_type": "execute_result"
    }
   ],
   "source": [
    "df"
   ]
  },
  {
   "cell_type": "code",
   "execution_count": null,
   "metadata": {},
   "outputs": [],
   "source": []
  }
 ],
 "metadata": {
  "kernelspec": {
   "display_name": "Python 3",
   "language": "python",
   "name": "python3"
  },
  "language_info": {
   "codemirror_mode": {
    "name": "ipython",
    "version": 3
   },
   "file_extension": ".py",
   "mimetype": "text/x-python",
   "name": "python",
   "nbconvert_exporter": "python",
   "pygments_lexer": "ipython3",
   "version": "3.7.7"
  }
 },
 "nbformat": 4,
 "nbformat_minor": 4
}
