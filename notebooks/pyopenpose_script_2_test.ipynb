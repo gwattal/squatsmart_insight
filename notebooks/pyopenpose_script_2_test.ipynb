{
 "cells": [
  {
   "cell_type": "code",
   "execution_count": 1,
   "metadata": {},
   "outputs": [],
   "source": [
    "import sys\n",
    "import cv2\n",
    "import os\n",
    "from sys import platform\n",
    "import argparse\n",
    "import time\n",
    "import numpy as np\n",
    "import matplotlib.pyplot as plt\n",
    "import pyopenpose as op\n",
    "import pandas as pd"
   ]
  },
  {
   "cell_type": "code",
   "execution_count": 2,
   "metadata": {},
   "outputs": [],
   "source": [
    "# Custom Params (refer to include/openpose/flags.hpp for more parameters)\n",
    "params = dict()\n",
    "params[\"model_folder\"] = \"/home/ubuntu/openpose/models\""
   ]
  },
  {
   "cell_type": "code",
   "execution_count": 3,
   "metadata": {},
   "outputs": [],
   "source": [
    "# Starting OpenPose\n",
    "opWrapper = op.WrapperPython()\n",
    "opWrapper.configure(params)\n",
    "opWrapper.start()\n",
    "\n",
    "input_image_path=\"/home/ubuntu/openpose/examples/media/\"\n",
    "output_image_path=\"/home/ubuntu/output_images/\"\n",
    "output_keypoints_path= \"/home/ubuntu/output_keypoints/\"\n",
    "\n",
    "# Read frames on directory\n",
    "imagePaths = op.get_images_on_directory(input_image_path)\n",
    "    #\"/Users/gwattal/squatsmart/openpose/examples/media\")\n",
    "start = time.time()"
   ]
  },
  {
   "cell_type": "code",
   "execution_count": null,
   "metadata": {},
   "outputs": [
    {
     "name": "stdout",
     "output_type": "stream",
     "text": [
      "COCO_val2014_000000000192\n",
      "Done with COCO_val2014_000000000192\n",
      "COCO_val2014_000000000241\n"
     ]
    }
   ],
   "source": [
    "for imagePath in imagePaths:\n",
    "    image_name=imagePath.replace(input_image_path,\"\")\n",
    "    image_name=image_name.replace(\".jpg\",'')\n",
    "    print(image_name)\n",
    "    datum = op.Datum()\n",
    "    imageToProcess = cv2.imread(imagePath)\n",
    "    datum.cvInputData = imageToProcess\n",
    "    opWrapper.emplaceAndPop([datum])\n",
    "    ##Save the rendered output file\n",
    "    cv2.imwrite(output_image_path+image_name+\"_annotated.jpg\",datum.cvOutputData)\n",
    "    #Save the Keypoints\n",
    "    #np.savetxt(output_keypoints_path+image_name+\"_keypoints.txt\",datum.poseKeypoints)#.reshape(25,3))\n",
    "    #print(\"Body keypoints: \\n\" + str(datum.poseKeypoints))\n",
    "    print(\"Done with \" + image_name)"
   ]
  },
  {
   "cell_type": "code",
   "execution_count": null,
   "metadata": {},
   "outputs": [],
   "source": [
    "opWrapper.stop()"
   ]
  },
  {
   "cell_type": "code",
   "execution_count": null,
   "metadata": {},
   "outputs": [],
   "source": [
    "end = time.time()\n",
    "print(end - start)"
   ]
  },
  {
   "cell_type": "code",
   "execution_count": 8,
   "metadata": {},
   "outputs": [],
   "source": [
    "path=\"/Users/gwattal/squatsmart/output_keypoints/test_output_keypoints/\"\n",
    "entries = os.listdir(path)"
   ]
  },
  {
   "cell_type": "code",
   "execution_count": 9,
   "metadata": {},
   "outputs": [
    {
     "data": {
      "text/plain": [
       "['test_output_keypointsIMG_6107.JPG_keypoints.txt',\n",
       " 'test_output_keypointsIMG_6106.JPG_keypoints.txt',\n",
       " 'test_output_keypointsIMG_6105_keypoints.txt']"
      ]
     },
     "execution_count": 9,
     "metadata": {},
     "output_type": "execute_result"
    }
   ],
   "source": [
    "entries"
   ]
  },
  {
   "cell_type": "code",
   "execution_count": 12,
   "metadata": {},
   "outputs": [
    {
     "name": "stdout",
     "output_type": "stream",
     "text": [
      "done\n"
     ]
    }
   ],
   "source": [
    "name=[]\n",
    "stance_heel=[]\n",
    "stance_ankle=[]\n",
    "stance_wgt_avg=[]\n",
    "confidence_heel=[]\n",
    "confidence_ankle=[]\n",
    "confidence_wgt_avg=[]\n",
    "for file in entries:\n",
    "    #print(file)\n",
    "    x,y,c=np.loadtxt((path+file)).T\n",
    "    ##\n",
    "    r_shoulder_x=x[2]\n",
    "    r_shoulder_y=y[2]\n",
    "    r_shoulder_c=c[2]\n",
    "    r_heel_x= x[24]\n",
    "    r_heel_y= y[24]\n",
    "    r_heel_c= c[24]\n",
    "    r_ankle_x=x[11]\n",
    "    r_ankle_y=y[11]\n",
    "    r_ankle_c=c[11]\n",
    "    l_shoulder_x=x[5]\n",
    "    l_shoulder_y=y[5]\n",
    "    l_shoulder_c=c[5]\n",
    "    l_heel_x= x[21]\n",
    "    l_heel_y= y[21]\n",
    "    l_heel_c= c[21]\n",
    "    l_ankle_x=x[14]\n",
    "    l_ankle_y=y[14]\n",
    "    l_ankle_c=c[14]\n",
    "    r_wgt_avg_x=(r_heel_x*r_heel_c + r_ankle_x*r_ankle_c)/(r_heel_c + r_ankle_c) #weighted avg of heel and ankle\n",
    "    r_wgt_avg_c=2*(r_heel_c*r_ankle_c)/(r_heel_c+r_ankle_c) #confidence is harmonic mean of individual confidences\n",
    "    l_wgt_avg_x=(l_heel_x*l_heel_c + l_ankle_x*l_ankle_c)/(l_heel_c + l_ankle_c)\n",
    "    l_wgt_avg_c=2*(l_heel_c*l_ankle_c)/(l_heel_c+l_ankle_c) #confidence is harmonic mean of individual confidences\n",
    "    ##\n",
    "    name.append(file.replace(\"_keypoints.txt\",\"\"))\n",
    "    #stance calculated from heel\n",
    "    stance_heel.append((l_heel_x-r_heel_x)/(l_shoulder_x - r_shoulder_x))\n",
    "    confidence_heel.append(min(r_shoulder_c,r_heel_c,l_shoulder_c,l_heel_c))\n",
    "    ##\n",
    "    #stance calculated from ankle\n",
    "    stance_ankle.append((l_ankle_x-r_ankle_x)/(l_shoulder_x - r_shoulder_x))\n",
    "    confidence_ankle.append(min(r_shoulder_c,r_ankle_c,l_shoulder_c,l_ankle_c))\n",
    "    ##\n",
    "    #stance calculated form weighted avg\n",
    "    stance_wgt_avg.append((l_wgt_avg_x-r_wgt_avg_x)/(l_shoulder_x - r_shoulder_x))\n",
    "    confidence_wgt_avg.append(min(r_shoulder_c,r_wgt_avg_c,l_shoulder_c,l_wgt_avg_c))\n",
    "    #print(file,(l_heel_x-r_heel_x)/(l_shoulder_x - r_shoulder_x))\n",
    "df = pd.DataFrame({'name': name, 'stance_heel': stance_heel, \"confidence_min_heel\":confidence_heel,\n",
    "                   'stance_ankle': stance_ankle, \"confidence_min_ankle\":confidence_ankle,\n",
    "                  'stance_wgt_avg': stance_wgt_avg, \"confidence_min_wgt_avg\":confidence_wgt_avg})\n",
    "#df=df.sort_values(by=['stance'])\n",
    "print(\"done\")"
   ]
  },
  {
   "cell_type": "code",
   "execution_count": 13,
   "metadata": {},
   "outputs": [
    {
     "data": {
      "text/html": [
       "<div>\n",
       "<style scoped>\n",
       "    .dataframe tbody tr th:only-of-type {\n",
       "        vertical-align: middle;\n",
       "    }\n",
       "\n",
       "    .dataframe tbody tr th {\n",
       "        vertical-align: top;\n",
       "    }\n",
       "\n",
       "    .dataframe thead th {\n",
       "        text-align: right;\n",
       "    }\n",
       "</style>\n",
       "<table border=\"1\" class=\"dataframe\">\n",
       "  <thead>\n",
       "    <tr style=\"text-align: right;\">\n",
       "      <th></th>\n",
       "      <th>name</th>\n",
       "      <th>stance_heel</th>\n",
       "      <th>confidence_min_heel</th>\n",
       "      <th>stance_ankle</th>\n",
       "      <th>confidence_min_ankle</th>\n",
       "      <th>stance_wgt_avg</th>\n",
       "      <th>confidence_min_wgt_avg</th>\n",
       "    </tr>\n",
       "  </thead>\n",
       "  <tbody>\n",
       "    <tr>\n",
       "      <th>0</th>\n",
       "      <td>test_output_keypointsIMG_6107.JPG</td>\n",
       "      <td>1.427969</td>\n",
       "      <td>0.625727</td>\n",
       "      <td>1.551691</td>\n",
       "      <td>0.808752</td>\n",
       "      <td>1.491509</td>\n",
       "      <td>0.722797</td>\n",
       "    </tr>\n",
       "    <tr>\n",
       "      <th>1</th>\n",
       "      <td>test_output_keypointsIMG_6106.JPG</td>\n",
       "      <td>1.070755</td>\n",
       "      <td>0.559829</td>\n",
       "      <td>1.238220</td>\n",
       "      <td>0.715353</td>\n",
       "      <td>1.163259</td>\n",
       "      <td>0.628107</td>\n",
       "    </tr>\n",
       "    <tr>\n",
       "      <th>2</th>\n",
       "      <td>test_output_keypointsIMG_6105</td>\n",
       "      <td>1.016248</td>\n",
       "      <td>0.746233</td>\n",
       "      <td>1.236688</td>\n",
       "      <td>0.785347</td>\n",
       "      <td>1.129869</td>\n",
       "      <td>0.765291</td>\n",
       "    </tr>\n",
       "  </tbody>\n",
       "</table>\n",
       "</div>"
      ],
      "text/plain": [
       "                                name  stance_heel  confidence_min_heel  \\\n",
       "0  test_output_keypointsIMG_6107.JPG     1.427969             0.625727   \n",
       "1  test_output_keypointsIMG_6106.JPG     1.070755             0.559829   \n",
       "2      test_output_keypointsIMG_6105     1.016248             0.746233   \n",
       "\n",
       "   stance_ankle  confidence_min_ankle  stance_wgt_avg  confidence_min_wgt_avg  \n",
       "0      1.551691              0.808752        1.491509                0.722797  \n",
       "1      1.238220              0.715353        1.163259                0.628107  \n",
       "2      1.236688              0.785347        1.129869                0.765291  "
      ]
     },
     "execution_count": 13,
     "metadata": {},
     "output_type": "execute_result"
    }
   ],
   "source": [
    "df"
   ]
  },
  {
   "cell_type": "code",
   "execution_count": 28,
   "metadata": {},
   "outputs": [
    {
     "data": {
      "text/plain": [
       "array([[[6.0786536e+02, 3.3551569e+02, 9.3835557e-01],\n",
       "        [6.3915863e+02, 3.5704959e+02, 7.9298127e-01],\n",
       "        [6.3334192e+02, 3.5701880e+02, 7.8994620e-01],\n",
       "        [6.1570996e+02, 3.9822754e+02, 4.9364272e-01],\n",
       "        [5.9017480e+02, 4.1782666e+02, 5.1929474e-01],\n",
       "        [6.4508478e+02, 3.5706418e+02, 9.0333217e-01],\n",
       "        [6.3525861e+02, 4.0602167e+02, 9.3825132e-01],\n",
       "        [5.9217584e+02, 4.1976962e+02, 8.9142793e-01],\n",
       "        [6.3129584e+02, 4.3352115e+02, 7.7044481e-01],\n",
       "        [6.2350568e+02, 4.3148474e+02, 7.4644285e-01],\n",
       "        [5.6474573e+02, 4.3539462e+02, 6.0213131e-01],\n",
       "        [5.1961700e+02, 4.9808640e+02, 5.7077074e-01],\n",
       "        [6.3532611e+02, 4.3738162e+02, 8.2645738e-01],\n",
       "        [5.7064673e+02, 4.4526376e+02, 8.8986588e-01],\n",
       "        [5.1965588e+02, 5.0005600e+02, 7.7072769e-01],\n",
       "        [0.0000000e+00, 0.0000000e+00, 0.0000000e+00],\n",
       "        [6.1170850e+02, 3.2960275e+02, 8.9180070e-01],\n",
       "        [0.0000000e+00, 0.0000000e+00, 0.0000000e+00],\n",
       "        [6.2933191e+02, 3.2763553e+02, 9.2546666e-01],\n",
       "        [4.9422159e+02, 4.9812692e+02, 5.9777117e-01],\n",
       "        [5.0205603e+02, 5.0589398e+02, 6.4767468e-01],\n",
       "        [5.1766516e+02, 5.0794107e+02, 5.8161628e-01],\n",
       "        [4.9809955e+02, 4.9417047e+02, 3.1193903e-01],\n",
       "        [4.9809848e+02, 4.9025204e+02, 2.9349390e-01],\n",
       "        [5.1968372e+02, 5.0592719e+02, 3.0827463e-01]],\n",
       "\n",
       "       [[5.0981400e+02, 2.5909479e+02, 8.7103754e-01],\n",
       "        [4.8053824e+02, 2.7287094e+02, 8.1883395e-01],\n",
       "        [4.7073016e+02, 2.7288535e+02, 9.0170509e-01],\n",
       "        [4.6870938e+02, 3.1788132e+02, 8.3484519e-01],\n",
       "        [4.9027054e+02, 3.5704175e+02, 7.6178890e-01],\n",
       "        [4.9229980e+02, 2.7285068e+02, 7.5950098e-01],\n",
       "        [0.0000000e+00, 0.0000000e+00, 0.0000000e+00],\n",
       "        [0.0000000e+00, 0.0000000e+00, 0.0000000e+00],\n",
       "        [4.8641565e+02, 3.6094873e+02, 6.3265848e-01],\n",
       "        [4.8043124e+02, 3.6102167e+02, 7.3900425e-01],\n",
       "        [4.8635150e+02, 4.1582422e+02, 3.6246365e-01],\n",
       "        [0.0000000e+00, 0.0000000e+00, 0.0000000e+00],\n",
       "        [4.9422629e+02, 3.5901959e+02, 5.8774304e-01],\n",
       "        [5.0398761e+02, 4.2760934e+02, 2.6571113e-01],\n",
       "        [0.0000000e+00, 0.0000000e+00, 0.0000000e+00],\n",
       "        [5.0787280e+02, 2.5325131e+02, 8.8291305e-01],\n",
       "        [5.1179385e+02, 2.5324333e+02, 1.7432716e-01],\n",
       "        [4.9220786e+02, 2.4732074e+02, 8.7061262e-01],\n",
       "        [0.0000000e+00, 0.0000000e+00, 0.0000000e+00],\n",
       "        [0.0000000e+00, 0.0000000e+00, 0.0000000e+00],\n",
       "        [0.0000000e+00, 0.0000000e+00, 0.0000000e+00],\n",
       "        [0.0000000e+00, 0.0000000e+00, 0.0000000e+00],\n",
       "        [0.0000000e+00, 0.0000000e+00, 0.0000000e+00],\n",
       "        [0.0000000e+00, 0.0000000e+00, 0.0000000e+00],\n",
       "        [0.0000000e+00, 0.0000000e+00, 0.0000000e+00]],\n",
       "\n",
       "       [[3.5119174e+02, 3.6095300e+02, 8.9928341e-01],\n",
       "        [3.0419290e+02, 3.9236563e+02, 6.0292321e-01],\n",
       "        [2.8654929e+02, 3.8249170e+02, 5.0271344e-01],\n",
       "        [2.3949550e+02, 3.9821780e+02, 1.4340797e-01],\n",
       "        [2.5521547e+02, 4.0998798e+02, 1.5201777e-01],\n",
       "        [3.2377557e+02, 4.0406464e+02, 4.6852618e-01],\n",
       "        [3.1594788e+02, 4.5306833e+02, 1.4418294e-01],\n",
       "        [3.8839133e+02, 4.3937634e+02, 1.2872599e-01],\n",
       "        [2.5319344e+02, 4.9811850e+02, 5.7785606e-01],\n",
       "        [2.3756035e+02, 5.0008224e+02, 6.3838911e-01],\n",
       "        [3.3158414e+02, 4.8052060e+02, 8.3090931e-01],\n",
       "        [2.7475961e+02, 5.7062634e+02, 8.6399543e-01],\n",
       "        [2.6890405e+02, 4.9615585e+02, 4.6890140e-01],\n",
       "        [3.3942416e+02, 4.7461887e+02, 4.2861891e-01],\n",
       "        [2.9237067e+02, 5.6477551e+02, 5.4490399e-01],\n",
       "        [3.4140186e+02, 3.5118524e+02, 8.4465122e-01],\n",
       "        [3.4919174e+02, 3.5703494e+02, 5.2637894e-02],\n",
       "        [3.1784329e+02, 3.5321545e+02, 8.1748104e-01],\n",
       "        [0.0000000e+00, 0.0000000e+00, 0.0000000e+00],\n",
       "        [3.2380026e+02, 5.7455823e+02, 5.4739356e-01],\n",
       "        [3.2180307e+02, 5.7056415e+02, 4.8929518e-01],\n",
       "        [2.8264420e+02, 5.6867645e+02, 1.2346784e-01],\n",
       "        [3.1589221e+02, 5.8435510e+02, 6.9349813e-01],\n",
       "        [3.0028421e+02, 5.9025311e+02, 6.8978375e-01],\n",
       "        [2.6107166e+02, 5.7842108e+02, 8.5326231e-01]],\n",
       "\n",
       "       [[5.7645447e+02, 3.7855688e+02, 9.0007234e-01],\n",
       "        [5.8036804e+02, 4.0600018e+02, 7.0239455e-01],\n",
       "        [5.6865594e+02, 4.0208475e+02, 8.0893147e-01],\n",
       "        [5.4713025e+02, 4.2754010e+02, 3.2699710e-01],\n",
       "        [5.4118951e+02, 4.3343777e+02, 2.0256411e-01],\n",
       "        [5.9023688e+02, 4.1186847e+02, 7.2263533e-01],\n",
       "        [5.8232428e+02, 4.3543167e+02, 2.3345673e-01],\n",
       "        [5.3536377e+02, 4.4129727e+02, 1.3157913e-01],\n",
       "        [5.5302362e+02, 4.4523352e+02, 2.4768415e-01],\n",
       "        [5.4515491e+02, 4.4134567e+02, 2.7925208e-01],\n",
       "        [5.2557605e+02, 4.4327115e+02, 3.4964663e-01],\n",
       "        [0.0000000e+00, 0.0000000e+00, 0.0000000e+00],\n",
       "        [5.6086334e+02, 4.4916388e+02, 2.2733440e-01],\n",
       "        [5.0790771e+02, 4.3345651e+02, 2.6573241e-01],\n",
       "        [0.0000000e+00, 0.0000000e+00, 0.0000000e+00],\n",
       "        [5.7838837e+02, 3.7270291e+02, 7.8875041e-01],\n",
       "        [5.8437469e+02, 3.7661414e+02, 9.3072593e-01],\n",
       "        [0.0000000e+00, 0.0000000e+00, 0.0000000e+00],\n",
       "        [5.9610358e+02, 3.8642401e+02, 9.1051328e-01],\n",
       "        [0.0000000e+00, 0.0000000e+00, 0.0000000e+00],\n",
       "        [0.0000000e+00, 0.0000000e+00, 0.0000000e+00],\n",
       "        [0.0000000e+00, 0.0000000e+00, 0.0000000e+00],\n",
       "        [0.0000000e+00, 0.0000000e+00, 0.0000000e+00],\n",
       "        [0.0000000e+00, 0.0000000e+00, 0.0000000e+00],\n",
       "        [0.0000000e+00, 0.0000000e+00, 0.0000000e+00]]], dtype=float32)"
      ]
     },
     "execution_count": 28,
     "metadata": {},
     "output_type": "execute_result"
    }
   ],
   "source": [
    "datum.poseKeypoints"
   ]
  },
  {
   "cell_type": "code",
   "execution_count": 29,
   "metadata": {},
   "outputs": [
    {
     "data": {
      "text/plain": [
       "array([237.56035  , 500.08224  ,   0.6383891], dtype=float32)"
      ]
     },
     "execution_count": 29,
     "metadata": {},
     "output_type": "execute_result"
    }
   ],
   "source": [
    "datum.poseKeypoints[2,9,:]"
   ]
  },
  {
   "cell_type": "code",
   "execution_count": 30,
   "metadata": {},
   "outputs": [
    {
     "data": {
      "text/plain": [
       "array([2.6890405e+02, 4.9615585e+02, 4.6890140e-01], dtype=float32)"
      ]
     },
     "execution_count": 30,
     "metadata": {},
     "output_type": "execute_result"
    }
   ],
   "source": [
    "datum.poseKeypoints[2,12,:]"
   ]
  },
  {
   "cell_type": "code",
   "execution_count": 31,
   "metadata": {},
   "outputs": [
    {
     "data": {
      "text/plain": [
       "array([2.5521547e+02, 4.0998798e+02, 1.5201777e-01], dtype=float32)"
      ]
     },
     "execution_count": 31,
     "metadata": {},
     "output_type": "execute_result"
    }
   ],
   "source": [
    "datum.poseKeypoints[2,4,:]"
   ]
  },
  {
   "cell_type": "code",
   "execution_count": 32,
   "metadata": {},
   "outputs": [
    {
     "data": {
      "text/plain": [
       "array([3.8839133e+02, 4.3937634e+02, 1.2872599e-01], dtype=float32)"
      ]
     },
     "execution_count": 32,
     "metadata": {},
     "output_type": "execute_result"
    }
   ],
   "source": [
    "datum.poseKeypoints[2,7,:]"
   ]
  },
  {
   "cell_type": "code",
   "execution_count": 33,
   "metadata": {},
   "outputs": [
    {
     "data": {
      "text/plain": [
       "array([0.8992834 , 0.6029232 , 0.50271344, 0.14340797, 0.15201777,\n",
       "       0.46852618, 0.14418294, 0.12872599, 0.57785606, 0.6383891 ,\n",
       "       0.8309093 , 0.86399543, 0.4689014 , 0.4286189 , 0.544904  ,\n",
       "       0.8446512 , 0.05263789, 0.81748104, 0.        , 0.54739356,\n",
       "       0.48929518, 0.12346784, 0.69349813, 0.68978375, 0.8532623 ],\n",
       "      dtype=float32)"
      ]
     },
     "execution_count": 33,
     "metadata": {},
     "output_type": "execute_result"
    }
   ],
   "source": [
    "datum.poseKeypoints[2,:,2]"
   ]
  },
  {
   "cell_type": "code",
   "execution_count": 34,
   "metadata": {},
   "outputs": [
    {
     "data": {
      "text/plain": [
       "array([351.19174, 304.1929 , 286.5493 , 239.4955 , 255.21547, 323.77557,\n",
       "       315.94788, 388.39133, 253.19344, 237.56035, 331.58414, 274.7596 ,\n",
       "       268.90405, 339.42416, 292.37067, 341.40186, 349.19174, 317.8433 ,\n",
       "         0.     , 323.80026, 321.80307, 282.6442 , 315.8922 , 300.2842 ,\n",
       "       261.07166], dtype=float32)"
      ]
     },
     "execution_count": 34,
     "metadata": {},
     "output_type": "execute_result"
    }
   ],
   "source": [
    "datum.poseKeypoints[2,:,0]"
   ]
  },
  {
   "cell_type": "code",
   "execution_count": null,
   "metadata": {},
   "outputs": [],
   "source": []
  }
 ],
 "metadata": {
  "kernelspec": {
   "display_name": "Python 3",
   "language": "python",
   "name": "python3"
  },
  "language_info": {
   "codemirror_mode": {
    "name": "ipython",
    "version": 3
   },
   "file_extension": ".py",
   "mimetype": "text/x-python",
   "name": "python",
   "nbconvert_exporter": "python",
   "pygments_lexer": "ipython3",
   "version": "3.6.9"
  }
 },
 "nbformat": 4,
 "nbformat_minor": 4
}
